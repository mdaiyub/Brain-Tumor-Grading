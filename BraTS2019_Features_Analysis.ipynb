{
  "nbformat": 4,
  "nbformat_minor": 0,
  "metadata": {
    "colab": {
      "provenance": []
    },
    "kernelspec": {
      "name": "python3",
      "display_name": "Python 3"
    },
    "language_info": {
      "name": "python"
    }
  },
  "cells": [
    {
      "cell_type": "markdown",
      "source": [
        "# Data Exploration"
      ],
      "metadata": {
        "id": "UEnczc1_9LO0"
      }
    },
    {
      "cell_type": "code",
      "execution_count": 119,
      "metadata": {
        "id": "j-DVy6a83QTT"
      },
      "outputs": [],
      "source": [
        "import numpy as np\n",
        "import pandas as pd\n",
        "import matplotlib as plt\n",
        "import seaborn as sns\n",
        "import matplotlib.pyplot as plt\n",
        "from sklearn.preprocessing import StandardScaler, LabelEncoder\n",
        "from sklearn.model_selection import train_test_split\n",
        "from sklearn.linear_model import LogisticRegression\n",
        "from sklearn.neighbors import KNeighborsClassifier\n",
        "from sklearn.tree import DecisionTreeClassifier\n",
        "from sklearn.ensemble import ExtraTreesClassifier\n",
        "from sklearn.naive_bayes import GaussianNB\n",
        "from sklearn.svm import SVC\n",
        "from sklearn.ensemble import RandomForestClassifier\n",
        "from sklearn.linear_model import SGDClassifier\n",
        "from sklearn.ensemble import GradientBoostingClassifier\n",
        "from sklearn.experimental import enable_hist_gradient_boosting\n",
        "from sklearn.ensemble import HistGradientBoostingClassifier\n",
        "from sklearn.ensemble import AdaBoostClassifier\n",
        "from xgboost import XGBClassifier, XGBRFClassifier\n",
        "from lightgbm import LGBMClassifier\n",
        "from sklearn.model_selection import cross_val_score\n",
        "from sklearn.metrics import confusion_matrix, accuracy_score, classification_report, f1_score, recall_score, precision_score"
      ]
    },
    {
      "cell_type": "code",
      "source": [
        "from google.colab import drive\n",
        "drive.mount('/content/drive')"
      ],
      "metadata": {
        "colab": {
          "base_uri": "https://localhost:8080/"
        },
        "id": "JdAAfDDtFvIW",
        "outputId": "f8229dc7-69af-45a3-e9cd-753660f35b30"
      },
      "execution_count": 120,
      "outputs": [
        {
          "output_type": "stream",
          "name": "stdout",
          "text": [
            "Drive already mounted at /content/drive; to attempt to forcibly remount, call drive.mount(\"/content/drive\", force_remount=True).\n"
          ]
        }
      ]
    },
    {
      "cell_type": "code",
      "source": [
        "df = pd.read_csv('/content/drive/MyDrive/Brain tumor/BraTS2019_Features.csv')\n",
        "df.head(2)"
      ],
      "metadata": {
        "colab": {
          "base_uri": "https://localhost:8080/",
          "height": 213
        },
        "id": "Pz-3N1-o3dkK",
        "outputId": "c85196a3-c893-4973-ff4d-dc4e567fdd74"
      },
      "execution_count": 121,
      "outputs": [
        {
          "output_type": "execute_result",
          "data": {
            "text/plain": [
              "  diagnostics_Versions_PyRadiomics diagnostics_Versions_Numpy  \\\n",
              "0                           v3.0.1                     1.23.5   \n",
              "1                           v3.0.1                     1.23.5   \n",
              "\n",
              "  diagnostics_Versions_SimpleITK diagnostics_Versions_PyWavelet  \\\n",
              "0                          2.3.0                          1.4.1   \n",
              "1                          2.3.0                          1.4.1   \n",
              "\n",
              "  diagnostics_Versions_Python  \\\n",
              "0                     3.10.12   \n",
              "1                     3.10.12   \n",
              "\n",
              "                  diagnostics_Configuration_Settings  \\\n",
              "0  {'minimumROIDimensions': 2, 'minimumROISize': ...   \n",
              "1  {'minimumROIDimensions': 2, 'minimumROISize': ...   \n",
              "\n",
              "  diagnostics_Configuration_EnabledImageTypes  \\\n",
              "0                            {'Original': {}}   \n",
              "1                            {'Original': {}}   \n",
              "\n",
              "            diagnostics_Image-original_Hash  \\\n",
              "0  33e08f677effad5e6754e93801c0729343666c94   \n",
              "1  73620355b22a3b037d6fc276d63517e4eef37d70   \n",
              "\n",
              "  diagnostics_Image-original_Dimensionality  \\\n",
              "0                                        3D   \n",
              "1                                        3D   \n",
              "\n",
              "  diagnostics_Image-original_Spacing  ...  \\\n",
              "0                    (1.0, 1.0, 1.0)  ...   \n",
              "1                    (1.0, 1.0, 1.0)  ...   \n",
              "\n",
              "  original_glszm_SmallAreaLowGrayLevelEmphasis  original_glszm_ZoneEntropy  \\\n",
              "0                                     0.011435                    6.144567   \n",
              "1                                     0.054986                    5.252435   \n",
              "\n",
              "   original_glszm_ZonePercentage  original_glszm_ZoneVariance  \\\n",
              "0                       0.018463                 1.617553e+05   \n",
              "1                       0.008486                 1.872055e+06   \n",
              "\n",
              "  original_ngtdm_Busyness original_ngtdm_Coarseness original_ngtdm_Complexity  \\\n",
              "0                2.252882                  0.000957                104.094198   \n",
              "1               73.989228                  0.000336                  9.003672   \n",
              "\n",
              "  original_ngtdm_Contrast  original_ngtdm_Strength  Diagnosis  \n",
              "0                0.005879                 0.365346        HGG  \n",
              "1                0.004367                 0.019459        HGG  \n",
              "\n",
              "[2 rows x 130 columns]"
            ],
            "text/html": [
              "\n",
              "  <div id=\"df-483cd947-2a7a-4509-8f1e-be441d2f0831\" class=\"colab-df-container\">\n",
              "    <div>\n",
              "<style scoped>\n",
              "    .dataframe tbody tr th:only-of-type {\n",
              "        vertical-align: middle;\n",
              "    }\n",
              "\n",
              "    .dataframe tbody tr th {\n",
              "        vertical-align: top;\n",
              "    }\n",
              "\n",
              "    .dataframe thead th {\n",
              "        text-align: right;\n",
              "    }\n",
              "</style>\n",
              "<table border=\"1\" class=\"dataframe\">\n",
              "  <thead>\n",
              "    <tr style=\"text-align: right;\">\n",
              "      <th></th>\n",
              "      <th>diagnostics_Versions_PyRadiomics</th>\n",
              "      <th>diagnostics_Versions_Numpy</th>\n",
              "      <th>diagnostics_Versions_SimpleITK</th>\n",
              "      <th>diagnostics_Versions_PyWavelet</th>\n",
              "      <th>diagnostics_Versions_Python</th>\n",
              "      <th>diagnostics_Configuration_Settings</th>\n",
              "      <th>diagnostics_Configuration_EnabledImageTypes</th>\n",
              "      <th>diagnostics_Image-original_Hash</th>\n",
              "      <th>diagnostics_Image-original_Dimensionality</th>\n",
              "      <th>diagnostics_Image-original_Spacing</th>\n",
              "      <th>...</th>\n",
              "      <th>original_glszm_SmallAreaLowGrayLevelEmphasis</th>\n",
              "      <th>original_glszm_ZoneEntropy</th>\n",
              "      <th>original_glszm_ZonePercentage</th>\n",
              "      <th>original_glszm_ZoneVariance</th>\n",
              "      <th>original_ngtdm_Busyness</th>\n",
              "      <th>original_ngtdm_Coarseness</th>\n",
              "      <th>original_ngtdm_Complexity</th>\n",
              "      <th>original_ngtdm_Contrast</th>\n",
              "      <th>original_ngtdm_Strength</th>\n",
              "      <th>Diagnosis</th>\n",
              "    </tr>\n",
              "  </thead>\n",
              "  <tbody>\n",
              "    <tr>\n",
              "      <th>0</th>\n",
              "      <td>v3.0.1</td>\n",
              "      <td>1.23.5</td>\n",
              "      <td>2.3.0</td>\n",
              "      <td>1.4.1</td>\n",
              "      <td>3.10.12</td>\n",
              "      <td>{'minimumROIDimensions': 2, 'minimumROISize': ...</td>\n",
              "      <td>{'Original': {}}</td>\n",
              "      <td>33e08f677effad5e6754e93801c0729343666c94</td>\n",
              "      <td>3D</td>\n",
              "      <td>(1.0, 1.0, 1.0)</td>\n",
              "      <td>...</td>\n",
              "      <td>0.011435</td>\n",
              "      <td>6.144567</td>\n",
              "      <td>0.018463</td>\n",
              "      <td>1.617553e+05</td>\n",
              "      <td>2.252882</td>\n",
              "      <td>0.000957</td>\n",
              "      <td>104.094198</td>\n",
              "      <td>0.005879</td>\n",
              "      <td>0.365346</td>\n",
              "      <td>HGG</td>\n",
              "    </tr>\n",
              "    <tr>\n",
              "      <th>1</th>\n",
              "      <td>v3.0.1</td>\n",
              "      <td>1.23.5</td>\n",
              "      <td>2.3.0</td>\n",
              "      <td>1.4.1</td>\n",
              "      <td>3.10.12</td>\n",
              "      <td>{'minimumROIDimensions': 2, 'minimumROISize': ...</td>\n",
              "      <td>{'Original': {}}</td>\n",
              "      <td>73620355b22a3b037d6fc276d63517e4eef37d70</td>\n",
              "      <td>3D</td>\n",
              "      <td>(1.0, 1.0, 1.0)</td>\n",
              "      <td>...</td>\n",
              "      <td>0.054986</td>\n",
              "      <td>5.252435</td>\n",
              "      <td>0.008486</td>\n",
              "      <td>1.872055e+06</td>\n",
              "      <td>73.989228</td>\n",
              "      <td>0.000336</td>\n",
              "      <td>9.003672</td>\n",
              "      <td>0.004367</td>\n",
              "      <td>0.019459</td>\n",
              "      <td>HGG</td>\n",
              "    </tr>\n",
              "  </tbody>\n",
              "</table>\n",
              "<p>2 rows × 130 columns</p>\n",
              "</div>\n",
              "    <div class=\"colab-df-buttons\">\n",
              "\n",
              "  <div class=\"colab-df-container\">\n",
              "    <button class=\"colab-df-convert\" onclick=\"convertToInteractive('df-483cd947-2a7a-4509-8f1e-be441d2f0831')\"\n",
              "            title=\"Convert this dataframe to an interactive table.\"\n",
              "            style=\"display:none;\">\n",
              "\n",
              "  <svg xmlns=\"http://www.w3.org/2000/svg\" height=\"24px\" viewBox=\"0 -960 960 960\">\n",
              "    <path d=\"M120-120v-720h720v720H120Zm60-500h600v-160H180v160Zm220 220h160v-160H400v160Zm0 220h160v-160H400v160ZM180-400h160v-160H180v160Zm440 0h160v-160H620v160ZM180-180h160v-160H180v160Zm440 0h160v-160H620v160Z\"/>\n",
              "  </svg>\n",
              "    </button>\n",
              "\n",
              "  <style>\n",
              "    .colab-df-container {\n",
              "      display:flex;\n",
              "      gap: 12px;\n",
              "    }\n",
              "\n",
              "    .colab-df-convert {\n",
              "      background-color: #E8F0FE;\n",
              "      border: none;\n",
              "      border-radius: 50%;\n",
              "      cursor: pointer;\n",
              "      display: none;\n",
              "      fill: #1967D2;\n",
              "      height: 32px;\n",
              "      padding: 0 0 0 0;\n",
              "      width: 32px;\n",
              "    }\n",
              "\n",
              "    .colab-df-convert:hover {\n",
              "      background-color: #E2EBFA;\n",
              "      box-shadow: 0px 1px 2px rgba(60, 64, 67, 0.3), 0px 1px 3px 1px rgba(60, 64, 67, 0.15);\n",
              "      fill: #174EA6;\n",
              "    }\n",
              "\n",
              "    .colab-df-buttons div {\n",
              "      margin-bottom: 4px;\n",
              "    }\n",
              "\n",
              "    [theme=dark] .colab-df-convert {\n",
              "      background-color: #3B4455;\n",
              "      fill: #D2E3FC;\n",
              "    }\n",
              "\n",
              "    [theme=dark] .colab-df-convert:hover {\n",
              "      background-color: #434B5C;\n",
              "      box-shadow: 0px 1px 3px 1px rgba(0, 0, 0, 0.15);\n",
              "      filter: drop-shadow(0px 1px 2px rgba(0, 0, 0, 0.3));\n",
              "      fill: #FFFFFF;\n",
              "    }\n",
              "  </style>\n",
              "\n",
              "    <script>\n",
              "      const buttonEl =\n",
              "        document.querySelector('#df-483cd947-2a7a-4509-8f1e-be441d2f0831 button.colab-df-convert');\n",
              "      buttonEl.style.display =\n",
              "        google.colab.kernel.accessAllowed ? 'block' : 'none';\n",
              "\n",
              "      async function convertToInteractive(key) {\n",
              "        const element = document.querySelector('#df-483cd947-2a7a-4509-8f1e-be441d2f0831');\n",
              "        const dataTable =\n",
              "          await google.colab.kernel.invokeFunction('convertToInteractive',\n",
              "                                                    [key], {});\n",
              "        if (!dataTable) return;\n",
              "\n",
              "        const docLinkHtml = 'Like what you see? Visit the ' +\n",
              "          '<a target=\"_blank\" href=https://colab.research.google.com/notebooks/data_table.ipynb>data table notebook</a>'\n",
              "          + ' to learn more about interactive tables.';\n",
              "        element.innerHTML = '';\n",
              "        dataTable['output_type'] = 'display_data';\n",
              "        await google.colab.output.renderOutput(dataTable, element);\n",
              "        const docLink = document.createElement('div');\n",
              "        docLink.innerHTML = docLinkHtml;\n",
              "        element.appendChild(docLink);\n",
              "      }\n",
              "    </script>\n",
              "  </div>\n",
              "\n",
              "\n",
              "<div id=\"df-82397d60-baea-4f37-a431-11e1ee2522cf\">\n",
              "  <button class=\"colab-df-quickchart\" onclick=\"quickchart('df-82397d60-baea-4f37-a431-11e1ee2522cf')\"\n",
              "            title=\"Suggest charts.\"\n",
              "            style=\"display:none;\">\n",
              "\n",
              "<svg xmlns=\"http://www.w3.org/2000/svg\" height=\"24px\"viewBox=\"0 0 24 24\"\n",
              "     width=\"24px\">\n",
              "    <g>\n",
              "        <path d=\"M19 3H5c-1.1 0-2 .9-2 2v14c0 1.1.9 2 2 2h14c1.1 0 2-.9 2-2V5c0-1.1-.9-2-2-2zM9 17H7v-7h2v7zm4 0h-2V7h2v10zm4 0h-2v-4h2v4z\"/>\n",
              "    </g>\n",
              "</svg>\n",
              "  </button>\n",
              "\n",
              "<style>\n",
              "  .colab-df-quickchart {\n",
              "      --bg-color: #E8F0FE;\n",
              "      --fill-color: #1967D2;\n",
              "      --hover-bg-color: #E2EBFA;\n",
              "      --hover-fill-color: #174EA6;\n",
              "      --disabled-fill-color: #AAA;\n",
              "      --disabled-bg-color: #DDD;\n",
              "  }\n",
              "\n",
              "  [theme=dark] .colab-df-quickchart {\n",
              "      --bg-color: #3B4455;\n",
              "      --fill-color: #D2E3FC;\n",
              "      --hover-bg-color: #434B5C;\n",
              "      --hover-fill-color: #FFFFFF;\n",
              "      --disabled-bg-color: #3B4455;\n",
              "      --disabled-fill-color: #666;\n",
              "  }\n",
              "\n",
              "  .colab-df-quickchart {\n",
              "    background-color: var(--bg-color);\n",
              "    border: none;\n",
              "    border-radius: 50%;\n",
              "    cursor: pointer;\n",
              "    display: none;\n",
              "    fill: var(--fill-color);\n",
              "    height: 32px;\n",
              "    padding: 0;\n",
              "    width: 32px;\n",
              "  }\n",
              "\n",
              "  .colab-df-quickchart:hover {\n",
              "    background-color: var(--hover-bg-color);\n",
              "    box-shadow: 0 1px 2px rgba(60, 64, 67, 0.3), 0 1px 3px 1px rgba(60, 64, 67, 0.15);\n",
              "    fill: var(--button-hover-fill-color);\n",
              "  }\n",
              "\n",
              "  .colab-df-quickchart-complete:disabled,\n",
              "  .colab-df-quickchart-complete:disabled:hover {\n",
              "    background-color: var(--disabled-bg-color);\n",
              "    fill: var(--disabled-fill-color);\n",
              "    box-shadow: none;\n",
              "  }\n",
              "\n",
              "  .colab-df-spinner {\n",
              "    border: 2px solid var(--fill-color);\n",
              "    border-color: transparent;\n",
              "    border-bottom-color: var(--fill-color);\n",
              "    animation:\n",
              "      spin 1s steps(1) infinite;\n",
              "  }\n",
              "\n",
              "  @keyframes spin {\n",
              "    0% {\n",
              "      border-color: transparent;\n",
              "      border-bottom-color: var(--fill-color);\n",
              "      border-left-color: var(--fill-color);\n",
              "    }\n",
              "    20% {\n",
              "      border-color: transparent;\n",
              "      border-left-color: var(--fill-color);\n",
              "      border-top-color: var(--fill-color);\n",
              "    }\n",
              "    30% {\n",
              "      border-color: transparent;\n",
              "      border-left-color: var(--fill-color);\n",
              "      border-top-color: var(--fill-color);\n",
              "      border-right-color: var(--fill-color);\n",
              "    }\n",
              "    40% {\n",
              "      border-color: transparent;\n",
              "      border-right-color: var(--fill-color);\n",
              "      border-top-color: var(--fill-color);\n",
              "    }\n",
              "    60% {\n",
              "      border-color: transparent;\n",
              "      border-right-color: var(--fill-color);\n",
              "    }\n",
              "    80% {\n",
              "      border-color: transparent;\n",
              "      border-right-color: var(--fill-color);\n",
              "      border-bottom-color: var(--fill-color);\n",
              "    }\n",
              "    90% {\n",
              "      border-color: transparent;\n",
              "      border-bottom-color: var(--fill-color);\n",
              "    }\n",
              "  }\n",
              "</style>\n",
              "\n",
              "  <script>\n",
              "    async function quickchart(key) {\n",
              "      const quickchartButtonEl =\n",
              "        document.querySelector('#' + key + ' button');\n",
              "      quickchartButtonEl.disabled = true;  // To prevent multiple clicks.\n",
              "      quickchartButtonEl.classList.add('colab-df-spinner');\n",
              "      try {\n",
              "        const charts = await google.colab.kernel.invokeFunction(\n",
              "            'suggestCharts', [key], {});\n",
              "      } catch (error) {\n",
              "        console.error('Error during call to suggestCharts:', error);\n",
              "      }\n",
              "      quickchartButtonEl.classList.remove('colab-df-spinner');\n",
              "      quickchartButtonEl.classList.add('colab-df-quickchart-complete');\n",
              "    }\n",
              "    (() => {\n",
              "      let quickchartButtonEl =\n",
              "        document.querySelector('#df-82397d60-baea-4f37-a431-11e1ee2522cf button');\n",
              "      quickchartButtonEl.style.display =\n",
              "        google.colab.kernel.accessAllowed ? 'block' : 'none';\n",
              "    })();\n",
              "  </script>\n",
              "</div>\n",
              "    </div>\n",
              "  </div>\n"
            ]
          },
          "metadata": {},
          "execution_count": 121
        }
      ]
    },
    {
      "cell_type": "code",
      "source": [
        "df.info()"
      ],
      "metadata": {
        "colab": {
          "base_uri": "https://localhost:8080/"
        },
        "id": "FKu5jQfi6HRr",
        "outputId": "a20b2dc3-fc4e-4c88-ee52-05a11af205b1"
      },
      "execution_count": 122,
      "outputs": [
        {
          "output_type": "stream",
          "name": "stdout",
          "text": [
            "<class 'pandas.core.frame.DataFrame'>\n",
            "RangeIndex: 334 entries, 0 to 333\n",
            "Columns: 130 entries, diagnostics_Versions_PyRadiomics to Diagnosis\n",
            "dtypes: float64(110), int64(2), object(18)\n",
            "memory usage: 339.3+ KB\n"
          ]
        }
      ]
    },
    {
      "cell_type": "code",
      "source": [
        "df.describe()"
      ],
      "metadata": {
        "colab": {
          "base_uri": "https://localhost:8080/",
          "height": 367
        },
        "id": "M5U-AX9f6MuA",
        "outputId": "59f9c349-6aab-46a3-c6d8-9baa748f0e1b"
      },
      "execution_count": 123,
      "outputs": [
        {
          "output_type": "execute_result",
          "data": {
            "text/plain": [
              "       diagnostics_Image-original_Mean  diagnostics_Image-original_Minimum  \\\n",
              "count                       334.000000                               334.0   \n",
              "mean                         93.421032                                 0.0   \n",
              "std                         172.319100                                 0.0   \n",
              "min                           6.609346                                 0.0   \n",
              "25%                          45.819204                                 0.0   \n",
              "50%                          57.276499                                 0.0   \n",
              "75%                          80.001316                                 0.0   \n",
              "max                        1778.219889                                 0.0   \n",
              "\n",
              "       diagnostics_Image-original_Maximum  diagnostics_Mask-original_VoxelNum  \\\n",
              "count                          334.000000                          334.000000   \n",
              "mean                          1573.667665                        22653.961078   \n",
              "std                           3580.542966                        30993.616517   \n",
              "min                            111.000000                           47.000000   \n",
              "25%                            670.500000                         3889.000000   \n",
              "50%                            853.000000                        10456.000000   \n",
              "75%                           1356.500000                        25385.250000   \n",
              "max                          32767.000000                       189152.000000   \n",
              "\n",
              "       diagnostics_Mask-original_VolumeNum  original_shape_Elongation  \\\n",
              "count                           334.000000                 334.000000   \n",
              "mean                             34.386228                   0.724622   \n",
              "std                              37.022077                   0.155025   \n",
              "min                               1.000000                   0.222498   \n",
              "25%                               8.000000                   0.641586   \n",
              "50%                              22.000000                   0.743567   \n",
              "75%                              48.000000                   0.841699   \n",
              "max                             270.000000                   0.984177   \n",
              "\n",
              "       original_shape_Flatness  original_shape_LeastAxisLength  \\\n",
              "count               334.000000                      334.000000   \n",
              "mean                  0.558038                       24.615817   \n",
              "std                   0.148290                       10.327705   \n",
              "min                   0.124907                        3.738339   \n",
              "25%                   0.466905                       17.297747   \n",
              "50%                   0.578939                       23.490939   \n",
              "75%                   0.663632                       30.933781   \n",
              "max                   0.878147                       59.587263   \n",
              "\n",
              "       original_shape_MajorAxisLength  original_shape_Maximum2DDiameterColumn  \\\n",
              "count                      334.000000                              334.000000   \n",
              "mean                        45.861937                               45.144488   \n",
              "std                         19.698202                               16.394693   \n",
              "min                          7.287142                                8.062258   \n",
              "25%                         32.733853                               33.335023   \n",
              "50%                         43.940747                               43.657760   \n",
              "75%                         56.520244                               56.080300   \n",
              "max                        171.979417                              105.475116   \n",
              "\n",
              "       ...  original_glszm_SmallAreaHighGrayLevelEmphasis  \\\n",
              "count  ...                                     334.000000   \n",
              "mean   ...                                     346.881097   \n",
              "std    ...                                    2684.351767   \n",
              "min    ...                                       1.078749   \n",
              "25%    ...                                      17.816152   \n",
              "50%    ...                                      33.251578   \n",
              "75%    ...                                      75.215979   \n",
              "max    ...                                   44923.941306   \n",
              "\n",
              "       original_glszm_SmallAreaLowGrayLevelEmphasis  \\\n",
              "count                                    334.000000   \n",
              "mean                                       0.032430   \n",
              "std                                        0.049972   \n",
              "min                                        0.000039   \n",
              "25%                                        0.008616   \n",
              "50%                                        0.019447   \n",
              "75%                                        0.035871   \n",
              "max                                        0.559769   \n",
              "\n",
              "       original_glszm_ZoneEntropy  original_glszm_ZonePercentage  \\\n",
              "count                  334.000000                     334.000000   \n",
              "mean                     5.638127                       0.090118   \n",
              "std                      1.063026                       0.116229   \n",
              "min                      1.584963                       0.000322   \n",
              "25%                      5.009616                       0.025015   \n",
              "50%                      5.570394                       0.055421   \n",
              "75%                      6.186526                       0.098895   \n",
              "max                      8.940406                       0.770955   \n",
              "\n",
              "       original_glszm_ZoneVariance  original_ngtdm_Busyness  \\\n",
              "count                 3.340000e+02               334.000000   \n",
              "mean                  6.241576e+05                44.338649   \n",
              "std                   3.458357e+06               538.439360   \n",
              "min                   5.684114e-01                 0.004755   \n",
              "25%                   2.722105e+03                 2.296022   \n",
              "50%                   2.017099e+04                 5.836094   \n",
              "75%                   1.010484e+05                14.207237   \n",
              "max                   4.237417e+07              9818.926992   \n",
              "\n",
              "       original_ngtdm_Coarseness  original_ngtdm_Complexity  \\\n",
              "count                 334.000000                 334.000000   \n",
              "mean                    0.008501                3975.335095   \n",
              "std                     0.035031               43162.475612   \n",
              "min                     0.000090                   0.000411   \n",
              "25%                     0.000563                  16.384190   \n",
              "50%                     0.001152                  39.248217   \n",
              "75%                     0.003214                 109.543388   \n",
              "max                     0.521373              670390.979289   \n",
              "\n",
              "       original_ngtdm_Contrast  original_ngtdm_Strength  \n",
              "count             3.340000e+02               334.000000  \n",
              "mean              3.009544e-02                 1.257937  \n",
              "std               5.662978e-02                 7.126713  \n",
              "min               1.629837e-07                 0.000775  \n",
              "25%               1.084325e-02                 0.051812  \n",
              "50%               1.866184e-02                 0.138751  \n",
              "75%               2.775808e-02                 0.380211  \n",
              "max               6.787136e-01               106.860586  \n",
              "\n",
              "[8 rows x 112 columns]"
            ],
            "text/html": [
              "\n",
              "  <div id=\"df-52cbd5a5-04ff-4b83-b9c4-9446f9c41257\" class=\"colab-df-container\">\n",
              "    <div>\n",
              "<style scoped>\n",
              "    .dataframe tbody tr th:only-of-type {\n",
              "        vertical-align: middle;\n",
              "    }\n",
              "\n",
              "    .dataframe tbody tr th {\n",
              "        vertical-align: top;\n",
              "    }\n",
              "\n",
              "    .dataframe thead th {\n",
              "        text-align: right;\n",
              "    }\n",
              "</style>\n",
              "<table border=\"1\" class=\"dataframe\">\n",
              "  <thead>\n",
              "    <tr style=\"text-align: right;\">\n",
              "      <th></th>\n",
              "      <th>diagnostics_Image-original_Mean</th>\n",
              "      <th>diagnostics_Image-original_Minimum</th>\n",
              "      <th>diagnostics_Image-original_Maximum</th>\n",
              "      <th>diagnostics_Mask-original_VoxelNum</th>\n",
              "      <th>diagnostics_Mask-original_VolumeNum</th>\n",
              "      <th>original_shape_Elongation</th>\n",
              "      <th>original_shape_Flatness</th>\n",
              "      <th>original_shape_LeastAxisLength</th>\n",
              "      <th>original_shape_MajorAxisLength</th>\n",
              "      <th>original_shape_Maximum2DDiameterColumn</th>\n",
              "      <th>...</th>\n",
              "      <th>original_glszm_SmallAreaHighGrayLevelEmphasis</th>\n",
              "      <th>original_glszm_SmallAreaLowGrayLevelEmphasis</th>\n",
              "      <th>original_glszm_ZoneEntropy</th>\n",
              "      <th>original_glszm_ZonePercentage</th>\n",
              "      <th>original_glszm_ZoneVariance</th>\n",
              "      <th>original_ngtdm_Busyness</th>\n",
              "      <th>original_ngtdm_Coarseness</th>\n",
              "      <th>original_ngtdm_Complexity</th>\n",
              "      <th>original_ngtdm_Contrast</th>\n",
              "      <th>original_ngtdm_Strength</th>\n",
              "    </tr>\n",
              "  </thead>\n",
              "  <tbody>\n",
              "    <tr>\n",
              "      <th>count</th>\n",
              "      <td>334.000000</td>\n",
              "      <td>334.0</td>\n",
              "      <td>334.000000</td>\n",
              "      <td>334.000000</td>\n",
              "      <td>334.000000</td>\n",
              "      <td>334.000000</td>\n",
              "      <td>334.000000</td>\n",
              "      <td>334.000000</td>\n",
              "      <td>334.000000</td>\n",
              "      <td>334.000000</td>\n",
              "      <td>...</td>\n",
              "      <td>334.000000</td>\n",
              "      <td>334.000000</td>\n",
              "      <td>334.000000</td>\n",
              "      <td>334.000000</td>\n",
              "      <td>3.340000e+02</td>\n",
              "      <td>334.000000</td>\n",
              "      <td>334.000000</td>\n",
              "      <td>334.000000</td>\n",
              "      <td>3.340000e+02</td>\n",
              "      <td>334.000000</td>\n",
              "    </tr>\n",
              "    <tr>\n",
              "      <th>mean</th>\n",
              "      <td>93.421032</td>\n",
              "      <td>0.0</td>\n",
              "      <td>1573.667665</td>\n",
              "      <td>22653.961078</td>\n",
              "      <td>34.386228</td>\n",
              "      <td>0.724622</td>\n",
              "      <td>0.558038</td>\n",
              "      <td>24.615817</td>\n",
              "      <td>45.861937</td>\n",
              "      <td>45.144488</td>\n",
              "      <td>...</td>\n",
              "      <td>346.881097</td>\n",
              "      <td>0.032430</td>\n",
              "      <td>5.638127</td>\n",
              "      <td>0.090118</td>\n",
              "      <td>6.241576e+05</td>\n",
              "      <td>44.338649</td>\n",
              "      <td>0.008501</td>\n",
              "      <td>3975.335095</td>\n",
              "      <td>3.009544e-02</td>\n",
              "      <td>1.257937</td>\n",
              "    </tr>\n",
              "    <tr>\n",
              "      <th>std</th>\n",
              "      <td>172.319100</td>\n",
              "      <td>0.0</td>\n",
              "      <td>3580.542966</td>\n",
              "      <td>30993.616517</td>\n",
              "      <td>37.022077</td>\n",
              "      <td>0.155025</td>\n",
              "      <td>0.148290</td>\n",
              "      <td>10.327705</td>\n",
              "      <td>19.698202</td>\n",
              "      <td>16.394693</td>\n",
              "      <td>...</td>\n",
              "      <td>2684.351767</td>\n",
              "      <td>0.049972</td>\n",
              "      <td>1.063026</td>\n",
              "      <td>0.116229</td>\n",
              "      <td>3.458357e+06</td>\n",
              "      <td>538.439360</td>\n",
              "      <td>0.035031</td>\n",
              "      <td>43162.475612</td>\n",
              "      <td>5.662978e-02</td>\n",
              "      <td>7.126713</td>\n",
              "    </tr>\n",
              "    <tr>\n",
              "      <th>min</th>\n",
              "      <td>6.609346</td>\n",
              "      <td>0.0</td>\n",
              "      <td>111.000000</td>\n",
              "      <td>47.000000</td>\n",
              "      <td>1.000000</td>\n",
              "      <td>0.222498</td>\n",
              "      <td>0.124907</td>\n",
              "      <td>3.738339</td>\n",
              "      <td>7.287142</td>\n",
              "      <td>8.062258</td>\n",
              "      <td>...</td>\n",
              "      <td>1.078749</td>\n",
              "      <td>0.000039</td>\n",
              "      <td>1.584963</td>\n",
              "      <td>0.000322</td>\n",
              "      <td>5.684114e-01</td>\n",
              "      <td>0.004755</td>\n",
              "      <td>0.000090</td>\n",
              "      <td>0.000411</td>\n",
              "      <td>1.629837e-07</td>\n",
              "      <td>0.000775</td>\n",
              "    </tr>\n",
              "    <tr>\n",
              "      <th>25%</th>\n",
              "      <td>45.819204</td>\n",
              "      <td>0.0</td>\n",
              "      <td>670.500000</td>\n",
              "      <td>3889.000000</td>\n",
              "      <td>8.000000</td>\n",
              "      <td>0.641586</td>\n",
              "      <td>0.466905</td>\n",
              "      <td>17.297747</td>\n",
              "      <td>32.733853</td>\n",
              "      <td>33.335023</td>\n",
              "      <td>...</td>\n",
              "      <td>17.816152</td>\n",
              "      <td>0.008616</td>\n",
              "      <td>5.009616</td>\n",
              "      <td>0.025015</td>\n",
              "      <td>2.722105e+03</td>\n",
              "      <td>2.296022</td>\n",
              "      <td>0.000563</td>\n",
              "      <td>16.384190</td>\n",
              "      <td>1.084325e-02</td>\n",
              "      <td>0.051812</td>\n",
              "    </tr>\n",
              "    <tr>\n",
              "      <th>50%</th>\n",
              "      <td>57.276499</td>\n",
              "      <td>0.0</td>\n",
              "      <td>853.000000</td>\n",
              "      <td>10456.000000</td>\n",
              "      <td>22.000000</td>\n",
              "      <td>0.743567</td>\n",
              "      <td>0.578939</td>\n",
              "      <td>23.490939</td>\n",
              "      <td>43.940747</td>\n",
              "      <td>43.657760</td>\n",
              "      <td>...</td>\n",
              "      <td>33.251578</td>\n",
              "      <td>0.019447</td>\n",
              "      <td>5.570394</td>\n",
              "      <td>0.055421</td>\n",
              "      <td>2.017099e+04</td>\n",
              "      <td>5.836094</td>\n",
              "      <td>0.001152</td>\n",
              "      <td>39.248217</td>\n",
              "      <td>1.866184e-02</td>\n",
              "      <td>0.138751</td>\n",
              "    </tr>\n",
              "    <tr>\n",
              "      <th>75%</th>\n",
              "      <td>80.001316</td>\n",
              "      <td>0.0</td>\n",
              "      <td>1356.500000</td>\n",
              "      <td>25385.250000</td>\n",
              "      <td>48.000000</td>\n",
              "      <td>0.841699</td>\n",
              "      <td>0.663632</td>\n",
              "      <td>30.933781</td>\n",
              "      <td>56.520244</td>\n",
              "      <td>56.080300</td>\n",
              "      <td>...</td>\n",
              "      <td>75.215979</td>\n",
              "      <td>0.035871</td>\n",
              "      <td>6.186526</td>\n",
              "      <td>0.098895</td>\n",
              "      <td>1.010484e+05</td>\n",
              "      <td>14.207237</td>\n",
              "      <td>0.003214</td>\n",
              "      <td>109.543388</td>\n",
              "      <td>2.775808e-02</td>\n",
              "      <td>0.380211</td>\n",
              "    </tr>\n",
              "    <tr>\n",
              "      <th>max</th>\n",
              "      <td>1778.219889</td>\n",
              "      <td>0.0</td>\n",
              "      <td>32767.000000</td>\n",
              "      <td>189152.000000</td>\n",
              "      <td>270.000000</td>\n",
              "      <td>0.984177</td>\n",
              "      <td>0.878147</td>\n",
              "      <td>59.587263</td>\n",
              "      <td>171.979417</td>\n",
              "      <td>105.475116</td>\n",
              "      <td>...</td>\n",
              "      <td>44923.941306</td>\n",
              "      <td>0.559769</td>\n",
              "      <td>8.940406</td>\n",
              "      <td>0.770955</td>\n",
              "      <td>4.237417e+07</td>\n",
              "      <td>9818.926992</td>\n",
              "      <td>0.521373</td>\n",
              "      <td>670390.979289</td>\n",
              "      <td>6.787136e-01</td>\n",
              "      <td>106.860586</td>\n",
              "    </tr>\n",
              "  </tbody>\n",
              "</table>\n",
              "<p>8 rows × 112 columns</p>\n",
              "</div>\n",
              "    <div class=\"colab-df-buttons\">\n",
              "\n",
              "  <div class=\"colab-df-container\">\n",
              "    <button class=\"colab-df-convert\" onclick=\"convertToInteractive('df-52cbd5a5-04ff-4b83-b9c4-9446f9c41257')\"\n",
              "            title=\"Convert this dataframe to an interactive table.\"\n",
              "            style=\"display:none;\">\n",
              "\n",
              "  <svg xmlns=\"http://www.w3.org/2000/svg\" height=\"24px\" viewBox=\"0 -960 960 960\">\n",
              "    <path d=\"M120-120v-720h720v720H120Zm60-500h600v-160H180v160Zm220 220h160v-160H400v160Zm0 220h160v-160H400v160ZM180-400h160v-160H180v160Zm440 0h160v-160H620v160ZM180-180h160v-160H180v160Zm440 0h160v-160H620v160Z\"/>\n",
              "  </svg>\n",
              "    </button>\n",
              "\n",
              "  <style>\n",
              "    .colab-df-container {\n",
              "      display:flex;\n",
              "      gap: 12px;\n",
              "    }\n",
              "\n",
              "    .colab-df-convert {\n",
              "      background-color: #E8F0FE;\n",
              "      border: none;\n",
              "      border-radius: 50%;\n",
              "      cursor: pointer;\n",
              "      display: none;\n",
              "      fill: #1967D2;\n",
              "      height: 32px;\n",
              "      padding: 0 0 0 0;\n",
              "      width: 32px;\n",
              "    }\n",
              "\n",
              "    .colab-df-convert:hover {\n",
              "      background-color: #E2EBFA;\n",
              "      box-shadow: 0px 1px 2px rgba(60, 64, 67, 0.3), 0px 1px 3px 1px rgba(60, 64, 67, 0.15);\n",
              "      fill: #174EA6;\n",
              "    }\n",
              "\n",
              "    .colab-df-buttons div {\n",
              "      margin-bottom: 4px;\n",
              "    }\n",
              "\n",
              "    [theme=dark] .colab-df-convert {\n",
              "      background-color: #3B4455;\n",
              "      fill: #D2E3FC;\n",
              "    }\n",
              "\n",
              "    [theme=dark] .colab-df-convert:hover {\n",
              "      background-color: #434B5C;\n",
              "      box-shadow: 0px 1px 3px 1px rgba(0, 0, 0, 0.15);\n",
              "      filter: drop-shadow(0px 1px 2px rgba(0, 0, 0, 0.3));\n",
              "      fill: #FFFFFF;\n",
              "    }\n",
              "  </style>\n",
              "\n",
              "    <script>\n",
              "      const buttonEl =\n",
              "        document.querySelector('#df-52cbd5a5-04ff-4b83-b9c4-9446f9c41257 button.colab-df-convert');\n",
              "      buttonEl.style.display =\n",
              "        google.colab.kernel.accessAllowed ? 'block' : 'none';\n",
              "\n",
              "      async function convertToInteractive(key) {\n",
              "        const element = document.querySelector('#df-52cbd5a5-04ff-4b83-b9c4-9446f9c41257');\n",
              "        const dataTable =\n",
              "          await google.colab.kernel.invokeFunction('convertToInteractive',\n",
              "                                                    [key], {});\n",
              "        if (!dataTable) return;\n",
              "\n",
              "        const docLinkHtml = 'Like what you see? Visit the ' +\n",
              "          '<a target=\"_blank\" href=https://colab.research.google.com/notebooks/data_table.ipynb>data table notebook</a>'\n",
              "          + ' to learn more about interactive tables.';\n",
              "        element.innerHTML = '';\n",
              "        dataTable['output_type'] = 'display_data';\n",
              "        await google.colab.output.renderOutput(dataTable, element);\n",
              "        const docLink = document.createElement('div');\n",
              "        docLink.innerHTML = docLinkHtml;\n",
              "        element.appendChild(docLink);\n",
              "      }\n",
              "    </script>\n",
              "  </div>\n",
              "\n",
              "\n",
              "<div id=\"df-240267b8-f88b-4494-9fbe-fb89d8f23989\">\n",
              "  <button class=\"colab-df-quickchart\" onclick=\"quickchart('df-240267b8-f88b-4494-9fbe-fb89d8f23989')\"\n",
              "            title=\"Suggest charts.\"\n",
              "            style=\"display:none;\">\n",
              "\n",
              "<svg xmlns=\"http://www.w3.org/2000/svg\" height=\"24px\"viewBox=\"0 0 24 24\"\n",
              "     width=\"24px\">\n",
              "    <g>\n",
              "        <path d=\"M19 3H5c-1.1 0-2 .9-2 2v14c0 1.1.9 2 2 2h14c1.1 0 2-.9 2-2V5c0-1.1-.9-2-2-2zM9 17H7v-7h2v7zm4 0h-2V7h2v10zm4 0h-2v-4h2v4z\"/>\n",
              "    </g>\n",
              "</svg>\n",
              "  </button>\n",
              "\n",
              "<style>\n",
              "  .colab-df-quickchart {\n",
              "      --bg-color: #E8F0FE;\n",
              "      --fill-color: #1967D2;\n",
              "      --hover-bg-color: #E2EBFA;\n",
              "      --hover-fill-color: #174EA6;\n",
              "      --disabled-fill-color: #AAA;\n",
              "      --disabled-bg-color: #DDD;\n",
              "  }\n",
              "\n",
              "  [theme=dark] .colab-df-quickchart {\n",
              "      --bg-color: #3B4455;\n",
              "      --fill-color: #D2E3FC;\n",
              "      --hover-bg-color: #434B5C;\n",
              "      --hover-fill-color: #FFFFFF;\n",
              "      --disabled-bg-color: #3B4455;\n",
              "      --disabled-fill-color: #666;\n",
              "  }\n",
              "\n",
              "  .colab-df-quickchart {\n",
              "    background-color: var(--bg-color);\n",
              "    border: none;\n",
              "    border-radius: 50%;\n",
              "    cursor: pointer;\n",
              "    display: none;\n",
              "    fill: var(--fill-color);\n",
              "    height: 32px;\n",
              "    padding: 0;\n",
              "    width: 32px;\n",
              "  }\n",
              "\n",
              "  .colab-df-quickchart:hover {\n",
              "    background-color: var(--hover-bg-color);\n",
              "    box-shadow: 0 1px 2px rgba(60, 64, 67, 0.3), 0 1px 3px 1px rgba(60, 64, 67, 0.15);\n",
              "    fill: var(--button-hover-fill-color);\n",
              "  }\n",
              "\n",
              "  .colab-df-quickchart-complete:disabled,\n",
              "  .colab-df-quickchart-complete:disabled:hover {\n",
              "    background-color: var(--disabled-bg-color);\n",
              "    fill: var(--disabled-fill-color);\n",
              "    box-shadow: none;\n",
              "  }\n",
              "\n",
              "  .colab-df-spinner {\n",
              "    border: 2px solid var(--fill-color);\n",
              "    border-color: transparent;\n",
              "    border-bottom-color: var(--fill-color);\n",
              "    animation:\n",
              "      spin 1s steps(1) infinite;\n",
              "  }\n",
              "\n",
              "  @keyframes spin {\n",
              "    0% {\n",
              "      border-color: transparent;\n",
              "      border-bottom-color: var(--fill-color);\n",
              "      border-left-color: var(--fill-color);\n",
              "    }\n",
              "    20% {\n",
              "      border-color: transparent;\n",
              "      border-left-color: var(--fill-color);\n",
              "      border-top-color: var(--fill-color);\n",
              "    }\n",
              "    30% {\n",
              "      border-color: transparent;\n",
              "      border-left-color: var(--fill-color);\n",
              "      border-top-color: var(--fill-color);\n",
              "      border-right-color: var(--fill-color);\n",
              "    }\n",
              "    40% {\n",
              "      border-color: transparent;\n",
              "      border-right-color: var(--fill-color);\n",
              "      border-top-color: var(--fill-color);\n",
              "    }\n",
              "    60% {\n",
              "      border-color: transparent;\n",
              "      border-right-color: var(--fill-color);\n",
              "    }\n",
              "    80% {\n",
              "      border-color: transparent;\n",
              "      border-right-color: var(--fill-color);\n",
              "      border-bottom-color: var(--fill-color);\n",
              "    }\n",
              "    90% {\n",
              "      border-color: transparent;\n",
              "      border-bottom-color: var(--fill-color);\n",
              "    }\n",
              "  }\n",
              "</style>\n",
              "\n",
              "  <script>\n",
              "    async function quickchart(key) {\n",
              "      const quickchartButtonEl =\n",
              "        document.querySelector('#' + key + ' button');\n",
              "      quickchartButtonEl.disabled = true;  // To prevent multiple clicks.\n",
              "      quickchartButtonEl.classList.add('colab-df-spinner');\n",
              "      try {\n",
              "        const charts = await google.colab.kernel.invokeFunction(\n",
              "            'suggestCharts', [key], {});\n",
              "      } catch (error) {\n",
              "        console.error('Error during call to suggestCharts:', error);\n",
              "      }\n",
              "      quickchartButtonEl.classList.remove('colab-df-spinner');\n",
              "      quickchartButtonEl.classList.add('colab-df-quickchart-complete');\n",
              "    }\n",
              "    (() => {\n",
              "      let quickchartButtonEl =\n",
              "        document.querySelector('#df-240267b8-f88b-4494-9fbe-fb89d8f23989 button');\n",
              "      quickchartButtonEl.style.display =\n",
              "        google.colab.kernel.accessAllowed ? 'block' : 'none';\n",
              "    })();\n",
              "  </script>\n",
              "</div>\n",
              "    </div>\n",
              "  </div>\n"
            ]
          },
          "metadata": {},
          "execution_count": 123
        }
      ]
    },
    {
      "cell_type": "code",
      "source": [
        "for column in df.columns:\n",
        "  print(column)"
      ],
      "metadata": {
        "colab": {
          "base_uri": "https://localhost:8080/"
        },
        "id": "z4_Ea3ir63EH",
        "outputId": "9ed23588-c65b-446e-9d1f-ca2e079dff3d"
      },
      "execution_count": 124,
      "outputs": [
        {
          "output_type": "stream",
          "name": "stdout",
          "text": [
            "diagnostics_Versions_PyRadiomics\n",
            "diagnostics_Versions_Numpy\n",
            "diagnostics_Versions_SimpleITK\n",
            "diagnostics_Versions_PyWavelet\n",
            "diagnostics_Versions_Python\n",
            "diagnostics_Configuration_Settings\n",
            "diagnostics_Configuration_EnabledImageTypes\n",
            "diagnostics_Image-original_Hash\n",
            "diagnostics_Image-original_Dimensionality\n",
            "diagnostics_Image-original_Spacing\n",
            "diagnostics_Image-original_Size\n",
            "diagnostics_Image-original_Mean\n",
            "diagnostics_Image-original_Minimum\n",
            "diagnostics_Image-original_Maximum\n",
            "diagnostics_Mask-original_Hash\n",
            "diagnostics_Mask-original_Spacing\n",
            "diagnostics_Mask-original_Size\n",
            "diagnostics_Mask-original_BoundingBox\n",
            "diagnostics_Mask-original_VoxelNum\n",
            "diagnostics_Mask-original_VolumeNum\n",
            "diagnostics_Mask-original_CenterOfMassIndex\n",
            "diagnostics_Mask-original_CenterOfMass\n",
            "original_shape_Elongation\n",
            "original_shape_Flatness\n",
            "original_shape_LeastAxisLength\n",
            "original_shape_MajorAxisLength\n",
            "original_shape_Maximum2DDiameterColumn\n",
            "original_shape_Maximum2DDiameterRow\n",
            "original_shape_Maximum2DDiameterSlice\n",
            "original_shape_Maximum3DDiameter\n",
            "original_shape_MeshVolume\n",
            "original_shape_MinorAxisLength\n",
            "original_shape_Sphericity\n",
            "original_shape_SurfaceArea\n",
            "original_shape_SurfaceVolumeRatio\n",
            "original_shape_VoxelVolume\n",
            "original_firstorder_10Percentile\n",
            "original_firstorder_90Percentile\n",
            "original_firstorder_Energy\n",
            "original_firstorder_Entropy\n",
            "original_firstorder_InterquartileRange\n",
            "original_firstorder_Kurtosis\n",
            "original_firstorder_Maximum\n",
            "original_firstorder_MeanAbsoluteDeviation\n",
            "original_firstorder_Mean\n",
            "original_firstorder_Median\n",
            "original_firstorder_Minimum\n",
            "original_firstorder_Range\n",
            "original_firstorder_RobustMeanAbsoluteDeviation\n",
            "original_firstorder_RootMeanSquared\n",
            "original_firstorder_Skewness\n",
            "original_firstorder_TotalEnergy\n",
            "original_firstorder_Uniformity\n",
            "original_firstorder_Variance\n",
            "original_glcm_Autocorrelation\n",
            "original_glcm_ClusterProminence\n",
            "original_glcm_ClusterShade\n",
            "original_glcm_ClusterTendency\n",
            "original_glcm_Contrast\n",
            "original_glcm_Correlation\n",
            "original_glcm_DifferenceAverage\n",
            "original_glcm_DifferenceEntropy\n",
            "original_glcm_DifferenceVariance\n",
            "original_glcm_Id\n",
            "original_glcm_Idm\n",
            "original_glcm_Idmn\n",
            "original_glcm_Idn\n",
            "original_glcm_Imc1\n",
            "original_glcm_Imc2\n",
            "original_glcm_InverseVariance\n",
            "original_glcm_JointAverage\n",
            "original_glcm_JointEnergy\n",
            "original_glcm_JointEntropy\n",
            "original_glcm_MCC\n",
            "original_glcm_MaximumProbability\n",
            "original_glcm_SumAverage\n",
            "original_glcm_SumEntropy\n",
            "original_glcm_SumSquares\n",
            "original_gldm_DependenceEntropy\n",
            "original_gldm_DependenceNonUniformity\n",
            "original_gldm_DependenceNonUniformityNormalized\n",
            "original_gldm_DependenceVariance\n",
            "original_gldm_GrayLevelNonUniformity\n",
            "original_gldm_GrayLevelVariance\n",
            "original_gldm_HighGrayLevelEmphasis\n",
            "original_gldm_LargeDependenceEmphasis\n",
            "original_gldm_LargeDependenceHighGrayLevelEmphasis\n",
            "original_gldm_LargeDependenceLowGrayLevelEmphasis\n",
            "original_gldm_LowGrayLevelEmphasis\n",
            "original_gldm_SmallDependenceEmphasis\n",
            "original_gldm_SmallDependenceHighGrayLevelEmphasis\n",
            "original_gldm_SmallDependenceLowGrayLevelEmphasis\n",
            "original_glrlm_GrayLevelNonUniformity\n",
            "original_glrlm_GrayLevelNonUniformityNormalized\n",
            "original_glrlm_GrayLevelVariance\n",
            "original_glrlm_HighGrayLevelRunEmphasis\n",
            "original_glrlm_LongRunEmphasis\n",
            "original_glrlm_LongRunHighGrayLevelEmphasis\n",
            "original_glrlm_LongRunLowGrayLevelEmphasis\n",
            "original_glrlm_LowGrayLevelRunEmphasis\n",
            "original_glrlm_RunEntropy\n",
            "original_glrlm_RunLengthNonUniformity\n",
            "original_glrlm_RunLengthNonUniformityNormalized\n",
            "original_glrlm_RunPercentage\n",
            "original_glrlm_RunVariance\n",
            "original_glrlm_ShortRunEmphasis\n",
            "original_glrlm_ShortRunHighGrayLevelEmphasis\n",
            "original_glrlm_ShortRunLowGrayLevelEmphasis\n",
            "original_glszm_GrayLevelNonUniformity\n",
            "original_glszm_GrayLevelNonUniformityNormalized\n",
            "original_glszm_GrayLevelVariance\n",
            "original_glszm_HighGrayLevelZoneEmphasis\n",
            "original_glszm_LargeAreaEmphasis\n",
            "original_glszm_LargeAreaHighGrayLevelEmphasis\n",
            "original_glszm_LargeAreaLowGrayLevelEmphasis\n",
            "original_glszm_LowGrayLevelZoneEmphasis\n",
            "original_glszm_SizeZoneNonUniformity\n",
            "original_glszm_SizeZoneNonUniformityNormalized\n",
            "original_glszm_SmallAreaEmphasis\n",
            "original_glszm_SmallAreaHighGrayLevelEmphasis\n",
            "original_glszm_SmallAreaLowGrayLevelEmphasis\n",
            "original_glszm_ZoneEntropy\n",
            "original_glszm_ZonePercentage\n",
            "original_glszm_ZoneVariance\n",
            "original_ngtdm_Busyness\n",
            "original_ngtdm_Coarseness\n",
            "original_ngtdm_Complexity\n",
            "original_ngtdm_Contrast\n",
            "original_ngtdm_Strength\n",
            "Diagnosis\n"
          ]
        }
      ]
    },
    {
      "cell_type": "code",
      "source": [
        "df.isnull().sum()"
      ],
      "metadata": {
        "colab": {
          "base_uri": "https://localhost:8080/"
        },
        "id": "Br7T48v78Xcl",
        "outputId": "dd047645-314e-4c2b-dc5e-a1615c38ae39"
      },
      "execution_count": 125,
      "outputs": [
        {
          "output_type": "execute_result",
          "data": {
            "text/plain": [
              "diagnostics_Versions_PyRadiomics    0\n",
              "diagnostics_Versions_Numpy          0\n",
              "diagnostics_Versions_SimpleITK      0\n",
              "diagnostics_Versions_PyWavelet      0\n",
              "diagnostics_Versions_Python         0\n",
              "                                   ..\n",
              "original_ngtdm_Coarseness           0\n",
              "original_ngtdm_Complexity           0\n",
              "original_ngtdm_Contrast             0\n",
              "original_ngtdm_Strength             0\n",
              "Diagnosis                           0\n",
              "Length: 130, dtype: int64"
            ]
          },
          "metadata": {},
          "execution_count": 125
        }
      ]
    },
    {
      "cell_type": "code",
      "source": [
        "df.drop(columns=[\"diagnostics_Versions_PyRadiomics\",\n",
        "                 \"diagnostics_Versions_Numpy\",\n",
        "                 \"diagnostics_Versions_SimpleITK\",\n",
        "                 \"diagnostics_Versions_PyWavelet\",\n",
        "                 \"diagnostics_Versions_Python\",\n",
        "                 \"diagnostics_Configuration_Settings\",\n",
        "                 \"diagnostics_Configuration_EnabledImageTypes\",\n",
        "                 \"diagnostics_Image-original_Hash\",\n",
        "                 \"diagnostics_Image-original_Dimensionality\",\n",
        "                 \"diagnostics_Image-original_Spacing\",\n",
        "                 \"diagnostics_Image-original_Size\",\n",
        "                 \"diagnostics_Mask-original_Hash\",\n",
        "                 \"diagnostics_Mask-original_Spacing\",\n",
        "                 \"diagnostics_Mask-original_Size\",\n",
        "                 \"diagnostics_Mask-original_BoundingBox\",\n",
        "                 \"diagnostics_Mask-original_CenterOfMassIndex\",\n",
        "                 \"diagnostics_Mask-original_CenterOfMass\"], inplace=True, axis=1)"
      ],
      "metadata": {
        "id": "xkKfyUMB9WQq"
      },
      "execution_count": 126,
      "outputs": []
    },
    {
      "cell_type": "code",
      "source": [
        "df.info()"
      ],
      "metadata": {
        "colab": {
          "base_uri": "https://localhost:8080/"
        },
        "id": "Yiwuvbam_I0W",
        "outputId": "7975df6e-1b69-4a19-c95a-070374762a68"
      },
      "execution_count": 127,
      "outputs": [
        {
          "output_type": "stream",
          "name": "stdout",
          "text": [
            "<class 'pandas.core.frame.DataFrame'>\n",
            "RangeIndex: 334 entries, 0 to 333\n",
            "Columns: 113 entries, diagnostics_Image-original_Mean to Diagnosis\n",
            "dtypes: float64(110), int64(2), object(1)\n",
            "memory usage: 295.0+ KB\n"
          ]
        }
      ]
    },
    {
      "cell_type": "code",
      "source": [
        "df.to_csv(\"/content/df.csv\", index=False)"
      ],
      "metadata": {
        "id": "eF7G1BgvC1Y2"
      },
      "execution_count": 128,
      "outputs": []
    },
    {
      "cell_type": "code",
      "source": [
        "df.shape"
      ],
      "metadata": {
        "colab": {
          "base_uri": "https://localhost:8080/"
        },
        "id": "h0a_EmygE91D",
        "outputId": "df1d0f50-94de-4248-dc86-5525db155e1d"
      },
      "execution_count": 129,
      "outputs": [
        {
          "output_type": "execute_result",
          "data": {
            "text/plain": [
              "(334, 113)"
            ]
          },
          "metadata": {},
          "execution_count": 129
        }
      ]
    },
    {
      "cell_type": "code",
      "source": [
        "plt.figure(figsize=(13,6))\n",
        "df['Diagnosis'].value_counts().plot.pie(explode=[0,0.1],autopct='%1.1f%%',shadow=True)\n",
        "plt.title(\"Diagnosis Ratio\", fontsize = 20)\n",
        "plt.legend(['HGG','LGG'])\n",
        "plt.show()"
      ],
      "metadata": {
        "colab": {
          "base_uri": "https://localhost:8080/",
          "height": 529
        },
        "id": "q_D2KlbqE_Ci",
        "outputId": "1f4ec0db-59fc-43c6-dec1-d356477e3ad2"
      },
      "execution_count": 130,
      "outputs": [
        {
          "output_type": "display_data",
          "data": {
            "text/plain": [
              "<Figure size 1300x600 with 1 Axes>"
            ],
            "image/png": "[encoded data removed]"
          },
          "metadata": {}
        }
      ]
    },
    {
      "cell_type": "code",
      "source": [
        "df.head(2)"
      ],
      "metadata": {
        "colab": {
          "base_uri": "https://localhost:8080/",
          "height": 179
        },
        "id": "Az37Gs-V9r2C",
        "outputId": "8d7baeaf-f26a-4b4b-b24c-802cacd09a70"
      },
      "execution_count": 131,
      "outputs": [
        {
          "output_type": "execute_result",
          "data": {
            "text/plain": [
              "   diagnostics_Image-original_Mean  diagnostics_Image-original_Minimum  \\\n",
              "0                        63.008830                                 0.0   \n",
              "1                        42.644644                                 0.0   \n",
              "\n",
              "   diagnostics_Image-original_Maximum  diagnostics_Mask-original_VoxelNum  \\\n",
              "0                              1043.0                               27189   \n",
              "1                               726.0                               45839   \n",
              "\n",
              "   diagnostics_Mask-original_VolumeNum  original_shape_Elongation  \\\n",
              "0                                  115                   0.739545   \n",
              "1                                  108                   0.712809   \n",
              "\n",
              "   original_shape_Flatness  original_shape_LeastAxisLength  \\\n",
              "0                 0.687078                       30.967202   \n",
              "1                 0.693697                       39.632601   \n",
              "\n",
              "   original_shape_MajorAxisLength  original_shape_Maximum2DDiameterColumn  \\\n",
              "0                       45.070872                               57.428216   \n",
              "1                       57.132479                               64.884513   \n",
              "\n",
              "   ...  original_glszm_SmallAreaLowGrayLevelEmphasis  \\\n",
              "0  ...                                      0.011435   \n",
              "1  ...                                      0.054986   \n",
              "\n",
              "   original_glszm_ZoneEntropy  original_glszm_ZonePercentage  \\\n",
              "0                    6.144567                       0.018463   \n",
              "1                    5.252435                       0.008486   \n",
              "\n",
              "   original_glszm_ZoneVariance  original_ngtdm_Busyness  \\\n",
              "0                 1.617553e+05                 2.252882   \n",
              "1                 1.872055e+06                73.989228   \n",
              "\n",
              "   original_ngtdm_Coarseness  original_ngtdm_Complexity  \\\n",
              "0                   0.000957                 104.094198   \n",
              "1                   0.000336                   9.003672   \n",
              "\n",
              "   original_ngtdm_Contrast  original_ngtdm_Strength  Diagnosis  \n",
              "0                 0.005879                 0.365346        HGG  \n",
              "1                 0.004367                 0.019459        HGG  \n",
              "\n",
              "[2 rows x 113 columns]"
            ],
            "text/html": [
              "\n",
              "  <div id=\"df-c23ddc13-7a31-405c-82ae-0167a951d1a8\" class=\"colab-df-container\">\n",
              "    <div>\n",
              "<style scoped>\n",
              "    .dataframe tbody tr th:only-of-type {\n",
              "        vertical-align: middle;\n",
              "    }\n",
              "\n",
              "    .dataframe tbody tr th {\n",
              "        vertical-align: top;\n",
              "    }\n",
              "\n",
              "    .dataframe thead th {\n",
              "        text-align: right;\n",
              "    }\n",
              "</style>\n",
              "<table border=\"1\" class=\"dataframe\">\n",
              "  <thead>\n",
              "    <tr style=\"text-align: right;\">\n",
              "      <th></th>\n",
              "      <th>diagnostics_Image-original_Mean</th>\n",
              "      <th>diagnostics_Image-original_Minimum</th>\n",
              "      <th>diagnostics_Image-original_Maximum</th>\n",
              "      <th>diagnostics_Mask-original_VoxelNum</th>\n",
              "      <th>diagnostics_Mask-original_VolumeNum</th>\n",
              "      <th>original_shape_Elongation</th>\n",
              "      <th>original_shape_Flatness</th>\n",
              "      <th>original_shape_LeastAxisLength</th>\n",
              "      <th>original_shape_MajorAxisLength</th>\n",
              "      <th>original_shape_Maximum2DDiameterColumn</th>\n",
              "      <th>...</th>\n",
              "      <th>original_glszm_SmallAreaLowGrayLevelEmphasis</th>\n",
              "      <th>original_glszm_ZoneEntropy</th>\n",
              "      <th>original_glszm_ZonePercentage</th>\n",
              "      <th>original_glszm_ZoneVariance</th>\n",
              "      <th>original_ngtdm_Busyness</th>\n",
              "      <th>original_ngtdm_Coarseness</th>\n",
              "      <th>original_ngtdm_Complexity</th>\n",
              "      <th>original_ngtdm_Contrast</th>\n",
              "      <th>original_ngtdm_Strength</th>\n",
              "      <th>Diagnosis</th>\n",
              "    </tr>\n",
              "  </thead>\n",
              "  <tbody>\n",
              "    <tr>\n",
              "      <th>0</th>\n",
              "      <td>63.008830</td>\n",
              "      <td>0.0</td>\n",
              "      <td>1043.0</td>\n",
              "      <td>27189</td>\n",
              "      <td>115</td>\n",
              "      <td>0.739545</td>\n",
              "      <td>0.687078</td>\n",
              "      <td>30.967202</td>\n",
              "      <td>45.070872</td>\n",
              "      <td>57.428216</td>\n",
              "      <td>...</td>\n",
              "      <td>0.011435</td>\n",
              "      <td>6.144567</td>\n",
              "      <td>0.018463</td>\n",
              "      <td>1.617553e+05</td>\n",
              "      <td>2.252882</td>\n",
              "      <td>0.000957</td>\n",
              "      <td>104.094198</td>\n",
              "      <td>0.005879</td>\n",
              "      <td>0.365346</td>\n",
              "      <td>HGG</td>\n",
              "    </tr>\n",
              "    <tr>\n",
              "      <th>1</th>\n",
              "      <td>42.644644</td>\n",
              "      <td>0.0</td>\n",
              "      <td>726.0</td>\n",
              "      <td>45839</td>\n",
              "      <td>108</td>\n",
              "      <td>0.712809</td>\n",
              "      <td>0.693697</td>\n",
              "      <td>39.632601</td>\n",
              "      <td>57.132479</td>\n",
              "      <td>64.884513</td>\n",
              "      <td>...</td>\n",
              "      <td>0.054986</td>\n",
              "      <td>5.252435</td>\n",
              "      <td>0.008486</td>\n",
              "      <td>1.872055e+06</td>\n",
              "      <td>73.989228</td>\n",
              "      <td>0.000336</td>\n",
              "      <td>9.003672</td>\n",
              "      <td>0.004367</td>\n",
              "      <td>0.019459</td>\n",
              "      <td>HGG</td>\n",
              "    </tr>\n",
              "  </tbody>\n",
              "</table>\n",
              "<p>2 rows × 113 columns</p>\n",
              "</div>\n",
              "    <div class=\"colab-df-buttons\">\n",
              "\n",
              "  <div class=\"colab-df-container\">\n",
              "    <button class=\"colab-df-convert\" onclick=\"convertToInteractive('df-c23ddc13-7a31-405c-82ae-0167a951d1a8')\"\n",
              "            title=\"Convert this dataframe to an interactive table.\"\n",
              "            style=\"display:none;\">\n",
              "\n",
              "  <svg xmlns=\"http://www.w3.org/2000/svg\" height=\"24px\" viewBox=\"0 -960 960 960\">\n",
              "    <path d=\"M120-120v-720h720v720H120Zm60-500h600v-160H180v160Zm220 220h160v-160H400v160Zm0 220h160v-160H400v160ZM180-400h160v-160H180v160Zm440 0h160v-160H620v160ZM180-180h160v-160H180v160Zm440 0h160v-160H620v160Z\"/>\n",
              "  </svg>\n",
              "    </button>\n",
              "\n",
              "  <style>\n",
              "    .colab-df-container {\n",
              "      display:flex;\n",
              "      gap: 12px;\n",
              "    }\n",
              "\n",
              "    .colab-df-convert {\n",
              "      background-color: #E8F0FE;\n",
              "      border: none;\n",
              "      border-radius: 50%;\n",
              "      cursor: pointer;\n",
              "      display: none;\n",
              "      fill: #1967D2;\n",
              "      height: 32px;\n",
              "      padding: 0 0 0 0;\n",
              "      width: 32px;\n",
              "    }\n",
              "\n",
              "    .colab-df-convert:hover {\n",
              "      background-color: #E2EBFA;\n",
              "      box-shadow: 0px 1px 2px rgba(60, 64, 67, 0.3), 0px 1px 3px 1px rgba(60, 64, 67, 0.15);\n",
              "      fill: #174EA6;\n",
              "    }\n",
              "\n",
              "    .colab-df-buttons div {\n",
              "      margin-bottom: 4px;\n",
              "    }\n",
              "\n",
              "    [theme=dark] .colab-df-convert {\n",
              "      background-color: #3B4455;\n",
              "      fill: #D2E3FC;\n",
              "    }\n",
              "\n",
              "    [theme=dark] .colab-df-convert:hover {\n",
              "      background-color: #434B5C;\n",
              "      box-shadow: 0px 1px 3px 1px rgba(0, 0, 0, 0.15);\n",
              "      filter: drop-shadow(0px 1px 2px rgba(0, 0, 0, 0.3));\n",
              "      fill: #FFFFFF;\n",
              "    }\n",
              "  </style>\n",
              "\n",
              "    <script>\n",
              "      const buttonEl =\n",
              "        document.querySelector('#df-c23ddc13-7a31-405c-82ae-0167a951d1a8 button.colab-df-convert');\n",
              "      buttonEl.style.display =\n",
              "        google.colab.kernel.accessAllowed ? 'block' : 'none';\n",
              "\n",
              "      async function convertToInteractive(key) {\n",
              "        const element = document.querySelector('#df-c23ddc13-7a31-405c-82ae-0167a951d1a8');\n",
              "        const dataTable =\n",
              "          await google.colab.kernel.invokeFunction('convertToInteractive',\n",
              "                                                    [key], {});\n",
              "        if (!dataTable) return;\n",
              "\n",
              "        const docLinkHtml = 'Like what you see? Visit the ' +\n",
              "          '<a target=\"_blank\" href=https://colab.research.google.com/notebooks/data_table.ipynb>data table notebook</a>'\n",
              "          + ' to learn more about interactive tables.';\n",
              "        element.innerHTML = '';\n",
              "        dataTable['output_type'] = 'display_data';\n",
              "        await google.colab.output.renderOutput(dataTable, element);\n",
              "        const docLink = document.createElement('div');\n",
              "        docLink.innerHTML = docLinkHtml;\n",
              "        element.appendChild(docLink);\n",
              "      }\n",
              "    </script>\n",
              "  </div>\n",
              "\n",
              "\n",
              "<div id=\"df-e0299e28-551e-4e06-b387-c333870a7ebb\">\n",
              "  <button class=\"colab-df-quickchart\" onclick=\"quickchart('df-e0299e28-551e-4e06-b387-c333870a7ebb')\"\n",
              "            title=\"Suggest charts.\"\n",
              "            style=\"display:none;\">\n",
              "\n",
              "<svg xmlns=\"http://www.w3.org/2000/svg\" height=\"24px\"viewBox=\"0 0 24 24\"\n",
              "     width=\"24px\">\n",
              "    <g>\n",
              "        <path d=\"M19 3H5c-1.1 0-2 .9-2 2v14c0 1.1.9 2 2 2h14c1.1 0 2-.9 2-2V5c0-1.1-.9-2-2-2zM9 17H7v-7h2v7zm4 0h-2V7h2v10zm4 0h-2v-4h2v4z\"/>\n",
              "    </g>\n",
              "</svg>\n",
              "  </button>\n",
              "\n",
              "<style>\n",
              "  .colab-df-quickchart {\n",
              "      --bg-color: #E8F0FE;\n",
              "      --fill-color: #1967D2;\n",
              "      --hover-bg-color: #E2EBFA;\n",
              "      --hover-fill-color: #174EA6;\n",
              "      --disabled-fill-color: #AAA;\n",
              "      --disabled-bg-color: #DDD;\n",
              "  }\n",
              "\n",
              "  [theme=dark] .colab-df-quickchart {\n",
              "      --bg-color: #3B4455;\n",
              "      --fill-color: #D2E3FC;\n",
              "      --hover-bg-color: #434B5C;\n",
              "      --hover-fill-color: #FFFFFF;\n",
              "      --disabled-bg-color: #3B4455;\n",
              "      --disabled-fill-color: #666;\n",
              "  }\n",
              "\n",
              "  .colab-df-quickchart {\n",
              "    background-color: var(--bg-color);\n",
              "    border: none;\n",
              "    border-radius: 50%;\n",
              "    cursor: pointer;\n",
              "    display: none;\n",
              "    fill: var(--fill-color);\n",
              "    height: 32px;\n",
              "    padding: 0;\n",
              "    width: 32px;\n",
              "  }\n",
              "\n",
              "  .colab-df-quickchart:hover {\n",
              "    background-color: var(--hover-bg-color);\n",
              "    box-shadow: 0 1px 2px rgba(60, 64, 67, 0.3), 0 1px 3px 1px rgba(60, 64, 67, 0.15);\n",
              "    fill: var(--button-hover-fill-color);\n",
              "  }\n",
              "\n",
              "  .colab-df-quickchart-complete:disabled,\n",
              "  .colab-df-quickchart-complete:disabled:hover {\n",
              "    background-color: var(--disabled-bg-color);\n",
              "    fill: var(--disabled-fill-color);\n",
              "    box-shadow: none;\n",
              "  }\n",
              "\n",
              "  .colab-df-spinner {\n",
              "    border: 2px solid var(--fill-color);\n",
              "    border-color: transparent;\n",
              "    border-bottom-color: var(--fill-color);\n",
              "    animation:\n",
              "      spin 1s steps(1) infinite;\n",
              "  }\n",
              "\n",
              "  @keyframes spin {\n",
              "    0% {\n",
              "      border-color: transparent;\n",
              "      border-bottom-color: var(--fill-color);\n",
              "      border-left-color: var(--fill-color);\n",
              "    }\n",
              "    20% {\n",
              "      border-color: transparent;\n",
              "      border-left-color: var(--fill-color);\n",
              "      border-top-color: var(--fill-color);\n",
              "    }\n",
              "    30% {\n",
              "      border-color: transparent;\n",
              "      border-left-color: var(--fill-color);\n",
              "      border-top-color: var(--fill-color);\n",
              "      border-right-color: var(--fill-color);\n",
              "    }\n",
              "    40% {\n",
              "      border-color: transparent;\n",
              "      border-right-color: var(--fill-color);\n",
              "      border-top-color: var(--fill-color);\n",
              "    }\n",
              "    60% {\n",
              "      border-color: transparent;\n",
              "      border-right-color: var(--fill-color);\n",
              "    }\n",
              "    80% {\n",
              "      border-color: transparent;\n",
              "      border-right-color: var(--fill-color);\n",
              "      border-bottom-color: var(--fill-color);\n",
              "    }\n",
              "    90% {\n",
              "      border-color: transparent;\n",
              "      border-bottom-color: var(--fill-color);\n",
              "    }\n",
              "  }\n",
              "</style>\n",
              "\n",
              "  <script>\n",
              "    async function quickchart(key) {\n",
              "      const quickchartButtonEl =\n",
              "        document.querySelector('#' + key + ' button');\n",
              "      quickchartButtonEl.disabled = true;  // To prevent multiple clicks.\n",
              "      quickchartButtonEl.classList.add('colab-df-spinner');\n",
              "      try {\n",
              "        const charts = await google.colab.kernel.invokeFunction(\n",
              "            'suggestCharts', [key], {});\n",
              "      } catch (error) {\n",
              "        console.error('Error during call to suggestCharts:', error);\n",
              "      }\n",
              "      quickchartButtonEl.classList.remove('colab-df-spinner');\n",
              "      quickchartButtonEl.classList.add('colab-df-quickchart-complete');\n",
              "    }\n",
              "    (() => {\n",
              "      let quickchartButtonEl =\n",
              "        document.querySelector('#df-e0299e28-551e-4e06-b387-c333870a7ebb button');\n",
              "      quickchartButtonEl.style.display =\n",
              "        google.colab.kernel.accessAllowed ? 'block' : 'none';\n",
              "    })();\n",
              "  </script>\n",
              "</div>\n",
              "    </div>\n",
              "  </div>\n"
            ]
          },
          "metadata": {},
          "execution_count": 131
        }
      ]
    },
    {
      "cell_type": "markdown",
      "source": [
        "# Preprocessing"
      ],
      "metadata": {
        "id": "INtTFS3p9XsY"
      }
    },
    {
      "cell_type": "code",
      "source": [
        "X=df.drop(columns=['Diagnosis'],axis=1)"
      ],
      "metadata": {
        "id": "J2qq4Zi5JLLt"
      },
      "execution_count": 132,
      "outputs": []
    },
    {
      "cell_type": "code",
      "source": [
        "le=LabelEncoder()\n",
        "Y=le.fit_transform(df['Diagnosis'])"
      ],
      "metadata": {
        "id": "VH9VWb9PJVi8"
      },
      "execution_count": 133,
      "outputs": []
    },
    {
      "cell_type": "code",
      "source": [
        "Y"
      ],
      "metadata": {
        "colab": {
          "base_uri": "https://localhost:8080/"
        },
        "id": "i6ZJN2YHJimi",
        "outputId": "8a94ce5e-b000-418e-d6aa-d3d4775c2b9b"
      },
      "execution_count": 134,
      "outputs": [
        {
          "output_type": "execute_result",
          "data": {
            "text/plain": [
              "array([0, 0, 0, 0, 0, 0, 0, 0, 0, 0, 0, 0, 0, 0, 0, 0, 0, 0, 0, 0, 0, 0,\n",
              "       0, 0, 0, 0, 0, 0, 0, 0, 0, 0, 0, 0, 0, 0, 0, 0, 0, 0, 0, 0, 0, 0,\n",
              "       0, 0, 0, 0, 0, 0, 0, 0, 0, 0, 0, 0, 0, 0, 0, 0, 0, 0, 0, 0, 0, 0,\n",
              "       0, 0, 0, 0, 0, 0, 0, 0, 0, 0, 0, 0, 0, 0, 0, 0, 0, 0, 0, 0, 0, 0,\n",
              "       0, 0, 0, 0, 0, 0, 0, 0, 0, 0, 0, 0, 0, 0, 0, 0, 0, 0, 0, 0, 0, 0,\n",
              "       0, 0, 0, 0, 0, 0, 0, 0, 0, 0, 0, 0, 0, 0, 0, 0, 0, 0, 0, 0, 0, 0,\n",
              "       0, 0, 0, 0, 0, 0, 0, 0, 0, 0, 0, 0, 0, 0, 0, 0, 0, 0, 0, 0, 0, 0,\n",
              "       0, 0, 0, 0, 0, 0, 0, 0, 0, 0, 0, 0, 0, 0, 0, 0, 0, 0, 0, 0, 0, 0,\n",
              "       0, 0, 0, 0, 0, 0, 0, 0, 0, 0, 0, 0, 0, 0, 0, 0, 0, 0, 0, 0, 0, 0,\n",
              "       0, 0, 0, 0, 0, 0, 0, 0, 0, 0, 0, 0, 0, 0, 0, 0, 0, 0, 0, 0, 0, 0,\n",
              "       0, 0, 0, 0, 0, 0, 0, 0, 0, 0, 0, 0, 0, 0, 0, 0, 0, 0, 0, 0, 0, 0,\n",
              "       0, 0, 0, 0, 0, 0, 0, 0, 0, 0, 0, 0, 0, 0, 0, 0, 1, 1, 1, 1, 1, 1,\n",
              "       1, 1, 1, 1, 1, 1, 1, 1, 1, 1, 1, 1, 1, 1, 1, 1, 1, 1, 1, 1, 1, 1,\n",
              "       1, 1, 1, 1, 1, 1, 1, 1, 1, 1, 1, 1, 1, 1, 1, 1, 1, 1, 1, 1, 1, 1,\n",
              "       1, 1, 1, 1, 1, 1, 1, 1, 1, 1, 1, 1, 1, 1, 1, 1, 1, 1, 1, 1, 1, 1,\n",
              "       1, 1, 1, 1])"
            ]
          },
          "metadata": {},
          "execution_count": 134
        }
      ]
    },
    {
      "cell_type": "code",
      "source": [
        "sc=StandardScaler()\n",
        "sc.fit(X)\n",
        "X=sc.transform(X)"
      ],
      "metadata": {
        "id": "EvTGGuigJvMB"
      },
      "execution_count": 135,
      "outputs": []
    },
    {
      "cell_type": "code",
      "source": [
        "X_train, X_test, y_train, y_test = train_test_split(X, Y, test_size=0.2, random_state = 42)"
      ],
      "metadata": {
        "id": "TWV3Ztv3EAgC"
      },
      "execution_count": 136,
      "outputs": []
    },
    {
      "cell_type": "code",
      "source": [
        "print(f\"X_train Shape: {X_train.shape}\")\n",
        "print(f\"y_train Shape: {y_train.shape}\")\n",
        "print(f\"X_test Shape: {X_test.shape}\")\n",
        "print(f\"X_test Shape: {y_test.shape}\")"
      ],
      "metadata": {
        "colab": {
          "base_uri": "https://localhost:8080/"
        },
        "id": "wFdZOfRBNy1-",
        "outputId": "e654ffed-6022-4f12-f666-6dcc81a20cee"
      },
      "execution_count": 140,
      "outputs": [
        {
          "output_type": "stream",
          "name": "stdout",
          "text": [
            "X_train Shape: (267, 112)\n",
            "y_train Shape: (267,)\n",
            "X_test Shape: (67, 112)\n",
            "X_test Shape: (67,)\n"
          ]
        }
      ]
    },
    {
      "cell_type": "markdown",
      "source": [
        "# Machine Learning"
      ],
      "metadata": {
        "id": "KXLuW3_gJ8n0"
      }
    },
    {
      "cell_type": "code",
      "source": [
        "# creating list of K for KNN\n",
        "k_list = list(range(1,50,2))\n",
        "# creating list of cv scores\n",
        "cv_scores = []\n",
        "\n",
        "# perform 5-fold cross validation\n",
        "for k in k_list:\n",
        "    knn = KNeighborsClassifier(n_neighbors=k)\n",
        "    scores = cross_val_score(knn, X_train, y_train, cv=5, scoring='accuracy')\n",
        "    cv_scores.append(scores.mean())"
      ],
      "metadata": {
        "id": "f3aBGUOAKFoR"
      },
      "execution_count": 141,
      "outputs": []
    },
    {
      "cell_type": "code",
      "source": [
        "# changing to misclassification error\n",
        "MSE = [1 - x for x in cv_scores]\n",
        "# finding best k\n",
        "best_k = k_list[MSE.index(min(MSE))]\n",
        "print(\"The optimal number of neighbors is %d.\" % best_k)"
      ],
      "metadata": {
        "colab": {
          "base_uri": "https://localhost:8080/"
        },
        "id": "R2TBibGAKOE4",
        "outputId": "e79a2599-15f2-4d87-a9e2-82f50777ef4c"
      },
      "execution_count": 142,
      "outputs": [
        {
          "output_type": "stream",
          "name": "stdout",
          "text": [
            "The optimal number of neighbors is 7.\n"
          ]
        }
      ]
    },
    {
      "cell_type": "code",
      "source": [
        "knn = KNeighborsClassifier(n_neighbors=7)\n",
        "knn.fit(X_train, y_train)\n",
        "knn_pred = knn.predict(X_test)\n",
        "accuracies = cross_val_score(estimator = knn, X = X_train, y = y_train, cv = 10)\n",
        "train_knn = knn.score(X_train , y_train)*100\n",
        "print(f\"Train score:{(train_knn):.2f}\")\n",
        "test_knn = knn.score(X_test , y_test)*100\n",
        "print(f\"Test score:{(test_knn):.2f}\")\n",
        "kfold_knn = np.mean(accuracies)*100\n",
        "print(f\"K-fold accuracy:{(kfold_knn):.2f}\")\n",
        "Kfold_Std_knn = accuracies.std()*100\n",
        "print(f\"Standard Deviation:{(Kfold_Std_knn):.2f}\")\n",
        "f1_knn = f1_score(y_test , knn_pred)*100\n",
        "print(f\"F1 Score: {f1_knn:.2f}\")\n",
        "re_knn = recall_score(y_test , knn_pred)*100\n",
        "print(f\"Recall Score: {re_knn:.2f}\")\n",
        "pre_knn = precision_score(y_test , knn_pred)*100\n",
        "print(f\"Precision Score: {pre_knn:.2f}\")\n",
        "acc_knn = accuracies.mean()*100\n",
        "print(f\"Accuracy:{(acc_knn):.2f}\")\n",
        "#print(classification_report(y_test, knn_pred))\n",
        "#sns.heatmap(confusion_matrix(y_test,knn_pred), annot= True, fmt= 'g')"
      ],
      "metadata": {
        "colab": {
          "base_uri": "https://localhost:8080/"
        },
        "id": "CSqtJ4ltKcQ6",
        "outputId": "56ef9b75-a3d3-40e8-b336-ea8f0102d5b2"
      },
      "execution_count": 143,
      "outputs": [
        {
          "output_type": "stream",
          "name": "stdout",
          "text": [
            "Train score:87.64\n",
            "Test score:83.58\n",
            "K-fold accuracy:85.75\n",
            "Standard Deviation:5.55\n",
            "F1 Score: 64.52\n",
            "Recall Score: 52.63\n",
            "Precision Score: 83.33\n",
            "Accuracy:85.75\n"
          ]
        }
      ]
    },
    {
      "cell_type": "code",
      "source": [
        "lgr = LogisticRegression()\n",
        "lgr.fit(X_train, y_train)\n",
        "lgr_pred = lgr.predict(X_test)\n",
        "accuracies = cross_val_score(estimator = lgr, X = X_train, y = y_train, cv = 10)\n",
        "train_lgr = lgr.score(X_train , y_train)*100\n",
        "print(f\"Train score:{(train_lgr):.2f}\")\n",
        "test_lgr = lgr.score(X_test , y_test)*100\n",
        "print(f\"Test score:{(test_lgr):.2f}\")\n",
        "kfold_lgr = np.mean(accuracies)*100\n",
        "print(f\"K-fold accuracy:{(kfold_lgr):.2f}\")\n",
        "Kfold_Std_lgr = accuracies.std()*100\n",
        "print(f\"Standard Deviation:{(Kfold_Std_lgr):.2f}\")\n",
        "f1_lgr = f1_score(y_test , lgr_pred)*100\n",
        "print(f\"F1 Score: {f1_lgr:.2f}\")\n",
        "re_lgr = recall_score(y_test , lgr_pred)*100\n",
        "print(f\"Recall Score: {re_lgr:.2f}\")\n",
        "pre_lgr = precision_score(y_test , lgr_pred)*100\n",
        "print(f\"Precision Score: {pre_lgr:.2f}\")\n",
        "acc_lgr = accuracies.mean()*100\n",
        "print(f\"Accuracy:{(acc_lgr):.2f}\")\n",
        "#print(classification_report(y_test, lgr_pred))\n",
        "#sns.heatmap(confusion_matrix(y_test,lgr_pred), annot= True, fmt= 'g')"
      ],
      "metadata": {
        "colab": {
          "base_uri": "https://localhost:8080/"
        },
        "id": "SMCCw_kXL-OM",
        "outputId": "9b6e2137-c8fc-4701-ceda-27879f1839aa"
      },
      "execution_count": 144,
      "outputs": [
        {
          "output_type": "stream",
          "name": "stdout",
          "text": [
            "Train score:95.88\n",
            "Test score:91.04\n",
            "K-fold accuracy:90.28\n",
            "Standard Deviation:4.16\n",
            "F1 Score: 81.25\n",
            "Recall Score: 68.42\n",
            "Precision Score: 100.00\n",
            "Accuracy:90.28\n"
          ]
        }
      ]
    },
    {
      "cell_type": "markdown",
      "source": [
        "# Feature Selection- Dropping Constant Features Using Threshold"
      ],
      "metadata": {
        "id": "aGiVutDlFHas"
      }
    },
    {
      "cell_type": "code",
      "source": [
        "X=df.drop(labels=['Diagnosis'],axis=1)\n",
        "Y=df['Diagnosis']"
      ],
      "metadata": {
        "id": "olufEoiKGvNr"
      },
      "execution_count": 166,
      "outputs": []
    },
    {
      "cell_type": "code",
      "source": [
        "from sklearn.model_selection import train_test_split\n",
        "X_train, X_test, y_train, y_test= train_test_split(X,Y,test_size=0.2,random_state=0)"
      ],
      "metadata": {
        "id": "rhkKw7D9GeS-"
      },
      "execution_count": 167,
      "outputs": []
    },
    {
      "cell_type": "code",
      "source": [
        "print(f\"X_train Shape: {X_train.shape}\")\n",
        "print(f\"y_train Shape: {y_train.shape}\")\n",
        "print(f\"X_test Shape: {X_test.shape}\")\n",
        "print(f\"X_test Shape: {y_test.shape}\")"
      ],
      "metadata": {
        "colab": {
          "base_uri": "https://localhost:8080/"
        },
        "id": "ZE1JG6gGOm4h",
        "outputId": "5d7416ec-3e37-4e28-8678-cede37b47615"
      },
      "execution_count": 168,
      "outputs": [
        {
          "output_type": "stream",
          "name": "stdout",
          "text": [
            "X_train Shape: (267, 112)\n",
            "y_train Shape: (267,)\n",
            "X_test Shape: (67, 112)\n",
            "X_test Shape: (67,)\n"
          ]
        }
      ]
    },
    {
      "cell_type": "code",
      "source": [
        "from sklearn.feature_selection import VarianceThreshold\n",
        "var_thres=VarianceThreshold(threshold=0.05)\n",
        "var_thres.fit(X_train)"
      ],
      "metadata": {
        "colab": {
          "base_uri": "https://localhost:8080/",
          "height": 75
        },
        "id": "E6h9JvgyFGq5",
        "outputId": "6862bdc4-392e-43f5-f616-36a5202faf34"
      },
      "execution_count": 171,
      "outputs": [
        {
          "output_type": "execute_result",
          "data": {
            "text/plain": [
              "VarianceThreshold(threshold=0.05)"
            ],
            "text/html": [
              "<style>#sk-container-id-13 {color: black;background-color: white;}#sk-container-id-13 pre{padding: 0;}#sk-container-id-13 div.sk-toggleable {background-color: white;}#sk-container-id-13 label.sk-toggleable__label {cursor: pointer;display: block;width: 100%;margin-bottom: 0;padding: 0.3em;box-sizing: border-box;text-align: center;}#sk-container-id-13 label.sk-toggleable__label-arrow:before {content: \"▸\";float: left;margin-right: 0.25em;color: #696969;}#sk-container-id-13 label.sk-toggleable__label-arrow:hover:before {color: black;}#sk-container-id-13 div.sk-estimator:hover label.sk-toggleable__label-arrow:before {color: black;}#sk-container-id-13 div.sk-toggleable__content {max-height: 0;max-width: 0;overflow: hidden;text-align: left;background-color: #f0f8ff;}#sk-container-id-13 div.sk-toggleable__content pre {margin: 0.2em;color: black;border-radius: 0.25em;background-color: #f0f8ff;}#sk-container-id-13 input.sk-toggleable__control:checked~div.sk-toggleable__content {max-height: 200px;max-width: 100%;overflow: auto;}#sk-container-id-13 input.sk-toggleable__control:checked~label.sk-toggleable__label-arrow:before {content: \"▾\";}#sk-container-id-13 div.sk-estimator input.sk-toggleable__control:checked~label.sk-toggleable__label {background-color: #d4ebff;}#sk-container-id-13 div.sk-label input.sk-toggleable__control:checked~label.sk-toggleable__label {background-color: #d4ebff;}#sk-container-id-13 input.sk-hidden--visually {border: 0;clip: rect(1px 1px 1px 1px);clip: rect(1px, 1px, 1px, 1px);height: 1px;margin: -1px;overflow: hidden;padding: 0;position: absolute;width: 1px;}#sk-container-id-13 div.sk-estimator {font-family: monospace;background-color: #f0f8ff;border: 1px dotted black;border-radius: 0.25em;box-sizing: border-box;margin-bottom: 0.5em;}#sk-container-id-13 div.sk-estimator:hover {background-color: #d4ebff;}#sk-container-id-13 div.sk-parallel-item::after {content: \"\";width: 100%;border-bottom: 1px solid gray;flex-grow: 1;}#sk-container-id-13 div.sk-label:hover label.sk-toggleable__label {background-color: #d4ebff;}#sk-container-id-13 div.sk-serial::before {content: \"\";position: absolute;border-left: 1px solid gray;box-sizing: border-box;top: 0;bottom: 0;left: 50%;z-index: 0;}#sk-container-id-13 div.sk-serial {display: flex;flex-direction: column;align-items: center;background-color: white;padding-right: 0.2em;padding-left: 0.2em;position: relative;}#sk-container-id-13 div.sk-item {position: relative;z-index: 1;}#sk-container-id-13 div.sk-parallel {display: flex;align-items: stretch;justify-content: center;background-color: white;position: relative;}#sk-container-id-13 div.sk-item::before, #sk-container-id-13 div.sk-parallel-item::before {content: \"\";position: absolute;border-left: 1px solid gray;box-sizing: border-box;top: 0;bottom: 0;left: 50%;z-index: -1;}#sk-container-id-13 div.sk-parallel-item {display: flex;flex-direction: column;z-index: 1;position: relative;background-color: white;}#sk-container-id-13 div.sk-parallel-item:first-child::after {align-self: flex-end;width: 50%;}#sk-container-id-13 div.sk-parallel-item:last-child::after {align-self: flex-start;width: 50%;}#sk-container-id-13 div.sk-parallel-item:only-child::after {width: 0;}#sk-container-id-13 div.sk-dashed-wrapped {border: 1px dashed gray;margin: 0 0.4em 0.5em 0.4em;box-sizing: border-box;padding-bottom: 0.4em;background-color: white;}#sk-container-id-13 div.sk-label label {font-family: monospace;font-weight: bold;display: inline-block;line-height: 1.2em;}#sk-container-id-13 div.sk-label-container {text-align: center;}#sk-container-id-13 div.sk-container {/* jupyter's `normalize.less` sets `[hidden] { display: none; }` but bootstrap.min.css set `[hidden] { display: none !important; }` so we also need the `!important` here to be able to override the default hidden behavior on the sphinx rendered scikit-learn.org. See: https://github.com/scikit-learn/scikit-learn/issues/21755 */display: inline-block !important;position: relative;}#sk-container-id-13 div.sk-text-repr-fallback {display: none;}</style><div id=\"sk-container-id-13\" class=\"sk-top-container\"><div class=\"sk-text-repr-fallback\"><pre>VarianceThreshold(threshold=0.05)</pre><b>In a Jupyter environment, please rerun this cell to show the HTML representation or trust the notebook. <br />On GitHub, the HTML representation is unable to render, please try loading this page with nbviewer.org.</b></div><div class=\"sk-container\" hidden><div class=\"sk-item\"><div class=\"sk-estimator sk-toggleable\"><input class=\"sk-toggleable__control sk-hidden--visually\" id=\"sk-estimator-id-13\" type=\"checkbox\" checked><label for=\"sk-estimator-id-13\" class=\"sk-toggleable__label sk-toggleable__label-arrow\">VarianceThreshold</label><div class=\"sk-toggleable__content\"><pre>VarianceThreshold(threshold=0.05)</pre></div></div></div></div></div>"
            ]
          },
          "metadata": {},
          "execution_count": 171
        }
      ]
    },
    {
      "cell_type": "code",
      "source": [
        "var_thres.get_support()"
      ],
      "metadata": {
        "colab": {
          "base_uri": "https://localhost:8080/"
        },
        "id": "6Azk5axmF5p0",
        "outputId": "a55643d0-600a-42a6-ece9-4dee314271d7"
      },
      "execution_count": 172,
      "outputs": [
        {
          "output_type": "execute_result",
          "data": {
            "text/plain": [
              "array([ True, False,  True,  True,  True, False, False,  True,  True,\n",
              "        True,  True,  True,  True,  True,  True, False,  True,  True,\n",
              "        True,  True,  True,  True,  True,  True,  True,  True,  True,\n",
              "        True,  True,  True,  True,  True,  True,  True,  True, False,\n",
              "        True,  True,  True,  True,  True,  True, False,  True,  True,\n",
              "        True, False, False, False, False, False, False, False,  True,\n",
              "       False,  True, False, False,  True,  True,  True,  True,  True,\n",
              "       False,  True,  True,  True,  True,  True,  True,  True, False,\n",
              "       False,  True, False,  True, False,  True,  True,  True,  True,\n",
              "        True, False,  True,  True, False, False,  True, False,  True,\n",
              "       False,  True, False,  True,  True,  True,  True,  True, False,\n",
              "        True, False, False,  True, False,  True, False,  True,  True,\n",
              "       False,  True, False,  True])"
            ]
          },
          "metadata": {},
          "execution_count": 172
        }
      ]
    },
    {
      "cell_type": "code",
      "source": [
        "## Finding non constant features\n",
        "sum(var_thres.get_support())"
      ],
      "metadata": {
        "colab": {
          "base_uri": "https://localhost:8080/"
        },
        "id": "4Kh8bjX_GFu3",
        "outputId": "4f968d72-0b20-4810-dcdd-a6483ca3bf39"
      },
      "execution_count": 173,
      "outputs": [
        {
          "output_type": "execute_result",
          "data": {
            "text/plain": [
              "78"
            ]
          },
          "metadata": {},
          "execution_count": 173
        }
      ]
    },
    {
      "cell_type": "code",
      "source": [
        "## Finding constant features\n",
        "constant_columns=[column for column in X_train.columns\n",
        "                  if column not in X_train.columns[var_thres.get_support()]]\n",
        "print(len(constant_columns))"
      ],
      "metadata": {
        "colab": {
          "base_uri": "https://localhost:8080/"
        },
        "id": "AuWDT_5NGQqx",
        "outputId": "6448fe8b-963a-43d3-da16-898a71a7ffa7"
      },
      "execution_count": 174,
      "outputs": [
        {
          "output_type": "stream",
          "name": "stdout",
          "text": [
            "34\n"
          ]
        }
      ]
    },
    {
      "cell_type": "code",
      "source": [
        "for column in constant_columns:\n",
        "  print(column)"
      ],
      "metadata": {
        "colab": {
          "base_uri": "https://localhost:8080/"
        },
        "id": "w8w6ThYbFrYD",
        "outputId": "42d0a1ab-5527-4632-e259-0a1bde145bd7"
      },
      "execution_count": 175,
      "outputs": [
        {
          "output_type": "stream",
          "name": "stdout",
          "text": [
            "diagnostics_Image-original_Minimum\n",
            "original_shape_Elongation\n",
            "original_shape_Flatness\n",
            "original_shape_Sphericity\n",
            "original_firstorder_Uniformity\n",
            "original_glcm_Correlation\n",
            "original_glcm_Id\n",
            "original_glcm_Idm\n",
            "original_glcm_Idmn\n",
            "original_glcm_Idn\n",
            "original_glcm_Imc1\n",
            "original_glcm_Imc2\n",
            "original_glcm_InverseVariance\n",
            "original_glcm_JointEnergy\n",
            "original_glcm_MCC\n",
            "original_glcm_MaximumProbability\n",
            "original_gldm_DependenceNonUniformityNormalized\n",
            "original_gldm_LowGrayLevelEmphasis\n",
            "original_gldm_SmallDependenceEmphasis\n",
            "original_gldm_SmallDependenceLowGrayLevelEmphasis\n",
            "original_glrlm_GrayLevelNonUniformityNormalized\n",
            "original_glrlm_LowGrayLevelRunEmphasis\n",
            "original_glrlm_RunLengthNonUniformityNormalized\n",
            "original_glrlm_RunPercentage\n",
            "original_glrlm_ShortRunEmphasis\n",
            "original_glrlm_ShortRunLowGrayLevelEmphasis\n",
            "original_glszm_GrayLevelNonUniformityNormalized\n",
            "original_glszm_LowGrayLevelZoneEmphasis\n",
            "original_glszm_SizeZoneNonUniformityNormalized\n",
            "original_glszm_SmallAreaEmphasis\n",
            "original_glszm_SmallAreaLowGrayLevelEmphasis\n",
            "original_glszm_ZonePercentage\n",
            "original_ngtdm_Coarseness\n",
            "original_ngtdm_Contrast\n"
          ]
        }
      ]
    },
    {
      "cell_type": "markdown",
      "source": [
        "**Model Building**"
      ],
      "metadata": {
        "id": "eRkbOG4ESk_3"
      }
    },
    {
      "cell_type": "code",
      "source": [
        "X.drop(constant_columns,axis=1,inplace = True)"
      ],
      "metadata": {
        "id": "AUCoh3oyHy_g"
      },
      "execution_count": 176,
      "outputs": []
    },
    {
      "cell_type": "code",
      "source": [
        "X.shape"
      ],
      "metadata": {
        "colab": {
          "base_uri": "https://localhost:8080/"
        },
        "id": "XGnzpYOePYjs",
        "outputId": "63ff4b56-459f-4162-baeb-9680137d5923"
      },
      "execution_count": 177,
      "outputs": [
        {
          "output_type": "execute_result",
          "data": {
            "text/plain": [
              "(334, 78)"
            ]
          },
          "metadata": {},
          "execution_count": 177
        }
      ]
    },
    {
      "cell_type": "code",
      "source": [
        "le=LabelEncoder()\n",
        "Y=le.fit_transform(df['Diagnosis'])"
      ],
      "metadata": {
        "id": "vd3ruRujLTRc"
      },
      "execution_count": 179,
      "outputs": []
    },
    {
      "cell_type": "code",
      "source": [
        "sc=StandardScaler()\n",
        "sc.fit(X)\n",
        "X=sc.transform(X)"
      ],
      "metadata": {
        "id": "B2S9oKFjLTIP"
      },
      "execution_count": 180,
      "outputs": []
    },
    {
      "cell_type": "code",
      "source": [
        "X_train, X_test, y_train, y_test = train_test_split(X, Y, test_size=0.2, random_state = 42)"
      ],
      "metadata": {
        "id": "GLH9dDTJMkSp"
      },
      "execution_count": 181,
      "outputs": []
    },
    {
      "cell_type": "code",
      "source": [
        "print(f\"X_train Shape: {X_train.shape}\")\n",
        "print(f\"y_train Shape: {y_train.shape}\")\n",
        "print(f\"X_test Shape: {X_test.shape}\")\n",
        "print(f\"X_test Shape: {y_test.shape}\")"
      ],
      "metadata": {
        "colab": {
          "base_uri": "https://localhost:8080/"
        },
        "id": "6uuYh1-JMlgW",
        "outputId": "c3dda83f-c68f-4f8e-a233-cbe7c1b3ce90"
      },
      "execution_count": 182,
      "outputs": [
        {
          "output_type": "stream",
          "name": "stdout",
          "text": [
            "X_train Shape: (267, 78)\n",
            "y_train Shape: (267,)\n",
            "X_test Shape: (67, 78)\n",
            "X_test Shape: (67,)\n"
          ]
        }
      ]
    },
    {
      "cell_type": "code",
      "source": [
        "lgr = LogisticRegression()\n",
        "lgr.fit(X_train, y_train)\n",
        "lgr_pred = lgr.predict(X_test)\n",
        "accuracies = cross_val_score(estimator = lgr, X = X_train, y = y_train, cv = 10)\n",
        "train_lgr = lgr.score(X_train , y_train)*100\n",
        "print(f\"Train score:{(train_lgr):.2f}\")\n",
        "test_lgr = lgr.score(X_test , y_test)*100\n",
        "print(f\"Test score:{(test_lgr):.2f}\")\n",
        "kfold_lgr = np.mean(accuracies)*100\n",
        "print(f\"K-fold accuracy:{(kfold_lgr):.2f}\")\n",
        "Kfold_Std_lgr = accuracies.std()*100\n",
        "print(f\"Standard Deviation:{(Kfold_Std_lgr):.2f}\")\n",
        "f1_lgr = f1_score(y_test , lgr_pred)*100\n",
        "print(f\"F1 Score: {f1_lgr:.2f}\")\n",
        "re_lgr = recall_score(y_test , lgr_pred)*100\n",
        "print(f\"Recall Score: {re_lgr:.2f}\")\n",
        "pre_lgr = precision_score(y_test , lgr_pred)*100\n",
        "print(f\"Precision Score: {pre_lgr:.2f}\")\n",
        "acc_lgr = accuracies.mean()*100\n",
        "print(f\"Accuracy:{(acc_lgr):.2f}\")\n",
        "#print(classification_report(y_test, lgr_pred))\n",
        "#sns.heatmap(confusion_matrix(y_test,lgr_pred), annot= True, fmt= 'g')"
      ],
      "metadata": {
        "colab": {
          "base_uri": "https://localhost:8080/"
        },
        "id": "MyfijqtrJUKn",
        "outputId": "20f471db-5f18-4947-cb12-38cfe043e955"
      },
      "execution_count": 184,
      "outputs": [
        {
          "output_type": "stream",
          "name": "stdout",
          "text": [
            "Train score:94.76\n",
            "Test score:89.55\n",
            "K-fold accuracy:92.14\n",
            "Standard Deviation:4.59\n",
            "F1 Score: 77.42\n",
            "Recall Score: 63.16\n",
            "Precision Score: 100.00\n",
            "Accuracy:92.14\n"
          ]
        }
      ]
    }
  ]
}